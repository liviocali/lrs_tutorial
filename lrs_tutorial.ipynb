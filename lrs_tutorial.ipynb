{
 "cells": [
  {
   "cell_type": "markdown",
   "id": "40a117eb-f0a8-4974-a947-bfea34dcc369",
   "metadata": {},
   "source": [
    "# MiniRun5 LRS output tutorial"
   ]
  },
  {
   "cell_type": "code",
   "execution_count": 167,
   "id": "c474a934-eab0-47d2-a74d-ea74f02a6562",
   "metadata": {
    "tags": []
   },
   "outputs": [
    {
     "name": "stdout",
     "output_type": "stream",
     "text": [
      "fatal: destination path 'h5flow' already exists and is not an empty directory.\n",
      "Defaulting to user installation because normal site-packages is not writeable\n",
      "Processing ./h5flow\n",
      "  Preparing metadata (setup.py) ... \u001b[?25ldone\n",
      "\u001b[?25hRequirement already satisfied: numpy in /global/common/software/nersc/pe/conda-envs/24.1.0/python-3.11/nersc-python/lib/python3.11/site-packages (from h5flow==0.2.4) (1.26.3)\n",
      "Requirement already satisfied: h5py>=2.10 in /global/common/software/nersc/pe/conda-envs/24.1.0/python-3.11/nersc-python/lib/python3.11/site-packages (from h5flow==0.2.4) (3.10.0)\n",
      "Requirement already satisfied: PyYAML in /global/common/software/nersc/pe/conda-envs/24.1.0/python-3.11/nersc-python/lib/python3.11/site-packages (from h5flow==0.2.4) (6.0.1)\n",
      "Requirement already satisfied: pyyaml-include in /global/homes/c/calivers/.local/perlmutter/python-3.11/lib/python3.11/site-packages (from h5flow==0.2.4) (1.3.2)\n",
      "Requirement already satisfied: tqdm in /global/common/software/nersc/pe/conda-envs/24.1.0/python-3.11/nersc-python/lib/python3.11/site-packages (from h5flow==0.2.4) (4.66.1)\n",
      "Requirement already satisfied: pytest in /global/homes/c/calivers/.local/perlmutter/python-3.11/lib/python3.11/site-packages (from h5flow==0.2.4) (7.4.4)\n",
      "Requirement already satisfied: iniconfig in /global/homes/c/calivers/.local/perlmutter/python-3.11/lib/python3.11/site-packages (from pytest->h5flow==0.2.4) (2.0.0)\n",
      "Requirement already satisfied: packaging in /global/common/software/nersc/pe/conda-envs/24.1.0/python-3.11/nersc-python/lib/python3.11/site-packages (from pytest->h5flow==0.2.4) (23.2)\n",
      "Requirement already satisfied: pluggy<2.0,>=0.12 in /global/homes/c/calivers/.local/perlmutter/python-3.11/lib/python3.11/site-packages (from pytest->h5flow==0.2.4) (1.3.0)\n",
      "Building wheels for collected packages: h5flow\n",
      "  Building wheel for h5flow (setup.py) ... \u001b[?25ldone\n",
      "\u001b[?25h  Created wheel for h5flow: filename=h5flow-0.2.4-py3-none-any.whl size=31485 sha256=e0013a4697eccdae698a7ab2987d28b9c6d48f487faaf1fb07b637ae6aa2eb58\n",
      "  Stored in directory: /tmp/pip-ephem-wheel-cache-rf0o0t24/wheels/78/40/8f/a6f2e21bab3d5347e6d488f340630384587818f7909ea71496\n",
      "Successfully built h5flow\n",
      "Installing collected packages: h5flow\n",
      "  Attempting uninstall: h5flow\n",
      "    Found existing installation: h5flow 0.2.4\n",
      "    Uninstalling h5flow-0.2.4:\n",
      "      Successfully uninstalled h5flow-0.2.4\n",
      "Successfully installed h5flow-0.2.4\n"
     ]
    }
   ],
   "source": [
    "!git clone https://github.com/peter-madigan/h5flow\n",
    "!pip install ./h5flow"
   ]
  },
  {
   "cell_type": "code",
   "execution_count": 168,
   "id": "904d5124-085e-4a82-8844-cccda7298947",
   "metadata": {
    "tags": []
   },
   "outputs": [
    {
     "name": "stdout",
     "output_type": "stream",
     "text": [
      "fatal: destination path 'ndlar_flow' already exists and is not an empty directory.\n",
      "Defaulting to user installation because normal site-packages is not writeable\n",
      "Processing ./ndlar_flow\n",
      "  Preparing metadata (setup.py) ... \u001b[?25ldone\n",
      "\u001b[?25hRequirement already satisfied: h5py>=2.10 in /global/common/software/nersc/pe/conda-envs/24.1.0/python-3.11/nersc-python/lib/python3.11/site-packages (from module0_flow==1.0.1) (3.10.0)\n",
      "Requirement already satisfied: pytest in /global/homes/c/calivers/.local/perlmutter/python-3.11/lib/python3.11/site-packages (from module0_flow==1.0.1) (7.4.4)\n",
      "Requirement already satisfied: scipy in /global/common/software/nersc/pe/conda-envs/24.1.0/python-3.11/nersc-python/lib/python3.11/site-packages (from module0_flow==1.0.1) (1.11.4)\n",
      "Requirement already satisfied: scikit-image in /global/common/software/nersc/pe/conda-envs/24.1.0/python-3.11/nersc-python/lib/python3.11/site-packages (from module0_flow==1.0.1) (0.20.0)\n",
      "Requirement already satisfied: scikit-learn in /global/common/software/nersc/pe/conda-envs/24.1.0/python-3.11/nersc-python/lib/python3.11/site-packages (from module0_flow==1.0.1) (1.3.2)\n",
      "Requirement already satisfied: h5flow>=0.2.0 in /global/homes/c/calivers/.local/perlmutter/python-3.11/lib/python3.11/site-packages (from module0_flow==1.0.1) (0.2.4)\n",
      "Requirement already satisfied: pylandau in /global/homes/c/calivers/.local/perlmutter/python-3.11/lib/python3.11/site-packages (from module0_flow==1.0.1) (2.2.1)\n",
      "Requirement already satisfied: numpy in /global/common/software/nersc/pe/conda-envs/24.1.0/python-3.11/nersc-python/lib/python3.11/site-packages (from h5flow>=0.2.0->module0_flow==1.0.1) (1.26.3)\n",
      "Requirement already satisfied: PyYAML in /global/common/software/nersc/pe/conda-envs/24.1.0/python-3.11/nersc-python/lib/python3.11/site-packages (from h5flow>=0.2.0->module0_flow==1.0.1) (6.0.1)\n",
      "Requirement already satisfied: pyyaml-include in /global/homes/c/calivers/.local/perlmutter/python-3.11/lib/python3.11/site-packages (from h5flow>=0.2.0->module0_flow==1.0.1) (1.3.2)\n",
      "Requirement already satisfied: tqdm in /global/common/software/nersc/pe/conda-envs/24.1.0/python-3.11/nersc-python/lib/python3.11/site-packages (from h5flow>=0.2.0->module0_flow==1.0.1) (4.66.1)\n",
      "Requirement already satisfied: cython>=0.29 in /global/common/software/nersc/pe/conda-envs/24.1.0/python-3.11/nersc-python/lib/python3.11/site-packages (from pylandau->module0_flow==1.0.1) (0.29.37)\n",
      "Requirement already satisfied: iniconfig in /global/homes/c/calivers/.local/perlmutter/python-3.11/lib/python3.11/site-packages (from pytest->module0_flow==1.0.1) (2.0.0)\n",
      "Requirement already satisfied: packaging in /global/common/software/nersc/pe/conda-envs/24.1.0/python-3.11/nersc-python/lib/python3.11/site-packages (from pytest->module0_flow==1.0.1) (23.2)\n",
      "Requirement already satisfied: pluggy<2.0,>=0.12 in /global/homes/c/calivers/.local/perlmutter/python-3.11/lib/python3.11/site-packages (from pytest->module0_flow==1.0.1) (1.3.0)\n",
      "Requirement already satisfied: networkx>=2.8 in /global/common/software/nersc/pe/conda-envs/24.1.0/python-3.11/nersc-python/lib/python3.11/site-packages (from scikit-image->module0_flow==1.0.1) (3.2.1)\n",
      "Requirement already satisfied: pillow>=9.0.1 in /global/common/software/nersc/pe/conda-envs/24.1.0/python-3.11/nersc-python/lib/python3.11/site-packages (from scikit-image->module0_flow==1.0.1) (10.2.0)\n",
      "Requirement already satisfied: imageio>=2.4.1 in /global/common/software/nersc/pe/conda-envs/24.1.0/python-3.11/nersc-python/lib/python3.11/site-packages (from scikit-image->module0_flow==1.0.1) (2.33.1)\n",
      "Requirement already satisfied: tifffile>=2019.7.26 in /global/common/software/nersc/pe/conda-envs/24.1.0/python-3.11/nersc-python/lib/python3.11/site-packages (from scikit-image->module0_flow==1.0.1) (2020.6.3)\n",
      "Requirement already satisfied: PyWavelets>=1.1.1 in /global/common/software/nersc/pe/conda-envs/24.1.0/python-3.11/nersc-python/lib/python3.11/site-packages (from scikit-image->module0_flow==1.0.1) (1.4.1)\n",
      "Requirement already satisfied: lazy_loader>=0.1 in /global/common/software/nersc/pe/conda-envs/24.1.0/python-3.11/nersc-python/lib/python3.11/site-packages (from scikit-image->module0_flow==1.0.1) (0.3)\n",
      "Requirement already satisfied: joblib>=1.1.1 in /global/common/software/nersc/pe/conda-envs/24.1.0/python-3.11/nersc-python/lib/python3.11/site-packages (from scikit-learn->module0_flow==1.0.1) (1.3.2)\n",
      "Requirement already satisfied: threadpoolctl>=2.0.0 in /global/common/software/nersc/pe/conda-envs/24.1.0/python-3.11/nersc-python/lib/python3.11/site-packages (from scikit-learn->module0_flow==1.0.1) (3.2.0)\n",
      "Building wheels for collected packages: module0_flow\n",
      "  Building wheel for module0_flow (setup.py) ... \u001b[?25ldone\n",
      "\u001b[?25h  Created wheel for module0_flow: filename=module0_flow-1.0.1-py3-none-any.whl size=236688 sha256=dad8a690e5a47e8a9edd119a0c997889302a3ca6fdae7bef57a189924667aedd\n",
      "  Stored in directory: /tmp/pip-ephem-wheel-cache-owynddu6/wheels/2a/b6/90/58636d7b30e182dda1a93900fca7b8f6a380a9e55c6aa02f76\n",
      "Successfully built module0_flow\n",
      "Installing collected packages: module0_flow\n",
      "  Attempting uninstall: module0_flow\n",
      "    Found existing installation: module0_flow 1.0.1\n",
      "    Uninstalling module0_flow-1.0.1:\n",
      "      Successfully uninstalled module0_flow-1.0.1\n",
      "Successfully installed module0_flow-1.0.1\n"
     ]
    }
   ],
   "source": [
    "!git clone https://github.com/DUNE/ndlar_flow\n",
    "!pip install ./ndlar_flow"
   ]
  },
  {
   "cell_type": "code",
   "execution_count": 207,
   "id": "3f59b771-b377-4a36-bcd9-c658fe465e13",
   "metadata": {
    "tags": []
   },
   "outputs": [],
   "source": [
    "import numpy as np\n",
    "import h5py\n",
    "import matplotlib.pyplot as plt\n",
    "#import matplotlib as mlp\n",
    "import itertools\n",
    "from h5flow.data import dereference\n",
    "#import h5flow\n",
    "import pylab as pl\n",
    "from proto_nd_flow.util.lut import LUT\n",
    "from matplotlib import cm, colors\n",
    "import matplotlib.patches as mpatches"
   ]
  },
  {
   "cell_type": "code",
   "execution_count": 208,
   "id": "0ddf1c69-d4b4-4166-a189-8074c2f86e20",
   "metadata": {
    "tags": []
   },
   "outputs": [],
   "source": [
    "def h5_tree(val, pre='',skip_ref=False):\n",
    "    items = len(val)\n",
    "    for key, val in val.items():\n",
    "        items -= 1\n",
    "        if items == 0:\n",
    "            # the last item\n",
    "            if type(val) == h5py._hl.group.Group:\n",
    "                print(pre + '└── ' + key)\n",
    "                if key==\"ref\" and skip_ref:\n",
    "                    continue\n",
    "                h5_tree(val, pre+'    ')\n",
    "            else:\n",
    "                print(pre + '└── ' + key + ' (%d)' % len(val))\n",
    "        else:\n",
    "            if type(val) == h5py._hl.group.Group:\n",
    "                print(pre + '├── ' + key)\n",
    "                h5_tree(val, pre+'│   ')\n",
    "            else:\n",
    "                print(pre + '├── ' + key + ' (%d)' % len(val))"
   ]
  },
  {
   "cell_type": "markdown",
   "id": "17ade0af-8b0d-477e-8795-5baf5976481e",
   "metadata": {},
   "source": [
    "## Import ndlar_flow file"
   ]
  },
  {
   "cell_type": "code",
   "execution_count": 209,
   "id": "a0041b3b-322c-4e0c-a4d8-16294e340bb5",
   "metadata": {
    "tags": []
   },
   "outputs": [
    {
     "name": "stdout",
     "output_type": "stream",
     "text": [
      "├── charge\n",
      "│   ├── calib_final_hits\n",
      "│   │   ├── data (73395)\n",
      "│   │   └── ref\n",
      "│   │       ├── charge\n",
      "│   │       │   ├── calib_prompt_hits\n",
      "│   │       │   │   └── ref_region (73395)\n",
      "│   │       │   ├── events\n",
      "│   │       │   │   └── ref_region (73395)\n",
      "│   │       │   └── raw_events\n",
      "│   │       │       └── ref_region (73395)\n",
      "│   │       └── mc_truth\n",
      "│   │           └── calib_final_hit_backtrack\n",
      "│   │               ├── ref (73395)\n",
      "│   │               └── ref_region (73395)\n",
      "│   ├── calib_prompt_hits\n",
      "│   │   ├── data (109097)\n",
      "│   │   └── ref\n",
      "│   │       ├── charge\n",
      "│   │       │   ├── calib_final_hits\n",
      "│   │       │   │   ├── ref (109097)\n",
      "│   │       │   │   └── ref_region (109097)\n",
      "│   │       │   ├── events\n",
      "│   │       │   │   └── ref_region (109097)\n",
      "│   │       │   ├── packets\n",
      "│   │       │   │   ├── ref (109097)\n",
      "│   │       │   │   └── ref_region (109097)\n",
      "│   │       │   └── raw_events\n",
      "│   │       │       └── ref_region (109097)\n",
      "│   │       └── mc_truth\n",
      "│   │           └── calib_prompt_hit_backtrack\n",
      "│   │               ├── ref (109097)\n",
      "│   │               └── ref_region (109097)\n",
      "│   ├── events\n",
      "│   │   ├── data (133)\n",
      "│   │   └── ref\n",
      "│   │       ├── charge\n",
      "│   │       │   ├── calib_final_hits\n",
      "│   │       │   │   ├── ref (73395)\n",
      "│   │       │   │   └── ref_region (133)\n",
      "│   │       │   ├── calib_prompt_hits\n",
      "│   │       │   │   ├── ref (109097)\n",
      "│   │       │   │   └── ref_region (133)\n",
      "│   │       │   ├── ext_trigs\n",
      "│   │       │   │   ├── ref (128)\n",
      "│   │       │   │   └── ref_region (133)\n",
      "│   │       │   ├── raw_events\n",
      "│   │       │   │   └── ref_region (133)\n",
      "│   │       │   └── raw_hits\n",
      "│   │       │       ├── ref (109097)\n",
      "│   │       │       └── ref_region (133)\n",
      "│   │       ├── combined\n",
      "│   │       │   └── t0\n",
      "│   │       │       ├── ref (133)\n",
      "│   │       │       └── ref_region (133)\n",
      "│   │       └── light\n",
      "│   │           └── events\n",
      "│   │               ├── ref (103)\n",
      "│   │               └── ref_region (133)\n",
      "│   ├── ext_trigs\n",
      "│   │   ├── data (128)\n",
      "│   │   └── ref\n",
      "│   │       ├── charge\n",
      "│   │       │   ├── events\n",
      "│   │       │   │   └── ref_region (128)\n",
      "│   │       │   └── raw_events\n",
      "│   │       │       └── ref_region (128)\n",
      "│   │       └── light\n",
      "│   │           └── events\n",
      "│   │               ├── ref (103)\n",
      "│   │               └── ref_region (128)\n",
      "│   ├── packets\n",
      "│   │   ├── data (109457)\n",
      "│   │   └── ref\n",
      "│   │       ├── charge\n",
      "│   │       │   ├── calib_prompt_hits\n",
      "│   │       │   │   └── ref_region (109457)\n",
      "│   │       │   ├── packets_corr_ts\n",
      "│   │       │   │   ├── ref (109457)\n",
      "│   │       │   │   └── ref_region (109457)\n",
      "│   │       │   ├── raw_events\n",
      "│   │       │   │   └── ref_region (109457)\n",
      "│   │       │   └── raw_hits\n",
      "│   │       │       └── ref_region (109457)\n",
      "│   │       └── mc_truth\n",
      "│   │           ├── packet_fraction\n",
      "│   │           │   ├── ref (476245)\n",
      "│   │           │   └── ref_region (109457)\n",
      "│   │           └── segments\n",
      "│   │               ├── ref (476245)\n",
      "│   │               └── ref_region (109457)\n",
      "│   ├── packets_corr_ts\n",
      "│   │   ├── data (109457)\n",
      "│   │   └── ref\n",
      "│   │       └── charge\n",
      "│   │           └── packets\n",
      "│   │               └── ref_region (109457)\n",
      "│   ├── raw_events\n",
      "│   │   ├── data (133)\n",
      "│   │   └── ref\n",
      "│   │       ├── charge\n",
      "│   │       │   ├── calib_final_hits\n",
      "│   │       │   │   ├── ref (73395)\n",
      "│   │       │   │   └── ref_region (133)\n",
      "│   │       │   ├── calib_prompt_hits\n",
      "│   │       │   │   ├── ref (109097)\n",
      "│   │       │   │   └── ref_region (133)\n",
      "│   │       │   ├── events\n",
      "│   │       │   │   ├── ref (133)\n",
      "│   │       │   │   └── ref_region (133)\n",
      "│   │       │   ├── ext_trigs\n",
      "│   │       │   │   ├── ref (128)\n",
      "│   │       │   │   └── ref_region (133)\n",
      "│   │       │   ├── packets\n",
      "│   │       │   │   ├── ref (109457)\n",
      "│   │       │   │   └── ref_region (133)\n",
      "│   │       │   └── raw_hits\n",
      "│   │       │       ├── ref (109097)\n",
      "│   │       │       └── ref_region (133)\n",
      "│   │       └── mc_truth\n",
      "│   │           └── interactions\n",
      "│   │               ├── ref (340)\n",
      "│   │               └── ref_region (133)\n",
      "│   └── raw_hits\n",
      "│       ├── data (109097)\n",
      "│       └── ref\n",
      "│           ├── charge\n",
      "│           │   ├── events\n",
      "│           │   │   └── ref_region (109097)\n",
      "│           │   ├── packets\n",
      "│           │   │   ├── ref (109097)\n",
      "│           │   │   └── ref_region (109097)\n",
      "│           │   └── raw_events\n",
      "│           │       └── ref_region (109097)\n",
      "│           └── combined\n",
      "│               └── t0\n",
      "│                   ├── ref (0)\n",
      "│                   └── ref_region (109097)\n",
      "├── combined\n",
      "│   └── t0\n",
      "│       ├── data (133)\n",
      "│       └── ref\n",
      "│           └── charge\n",
      "│               ├── events\n",
      "│               │   └── ref_region (133)\n",
      "│               └── raw_hits\n",
      "│                   └── ref_region (133)\n",
      "├── geometry_info\n",
      "│   ├── anode_drift_coordinate\n",
      "│   │   └── data (257)\n",
      "│   ├── det_bounds\n",
      "│   │   └── data (129)\n",
      "│   ├── det_id\n",
      "│   │   └── data (481)\n",
      "│   ├── det_rel_pos\n",
      "│   │   └── data (129)\n",
      "│   ├── drift_dir\n",
      "│   │   └── data (257)\n",
      "│   ├── pixel_coordinates_2D\n",
      "│   │   └── data (1638401)\n",
      "│   ├── sipm_abs_pos\n",
      "│   │   └── data (481)\n",
      "│   ├── sipm_rel_pos\n",
      "│   │   └── data (481)\n",
      "│   └── tile_id\n",
      "│       └── data (4097)\n",
      "├── lar_info\n",
      "├── light\n",
      "│   ├── events\n",
      "│   │   ├── data (198)\n",
      "│   │   └── ref\n",
      "│   │       ├── charge\n",
      "│   │       │   ├── events\n",
      "│   │       │   │   └── ref_region (198)\n",
      "│   │       │   └── ext_trigs\n",
      "│   │       │       └── ref_region (198)\n",
      "│   │       └── light\n",
      "│   │           ├── sipm_hits\n",
      "│   │           │   ├── ref (3167)\n",
      "│   │           │   └── ref_region (198)\n",
      "│   │           ├── sum_hits\n",
      "│   │           │   ├── ref (1815)\n",
      "│   │           │   └── ref_region (198)\n",
      "│   │           ├── t_ns\n",
      "│   │           │   ├── ref (198)\n",
      "│   │           │   └── ref_region (198)\n",
      "│   │           └── wvfm\n",
      "│   │               ├── ref (198)\n",
      "│   │               └── ref_region (198)\n",
      "│   ├── sipm_hits\n",
      "│   │   ├── data (3167)\n",
      "│   │   └── ref\n",
      "│   │       └── light\n",
      "│   │           └── events\n",
      "│   │               └── ref_region (3167)\n",
      "│   ├── sum_hits\n",
      "│   │   ├── data (1815)\n",
      "│   │   └── ref\n",
      "│   │       └── light\n",
      "│   │           └── events\n",
      "│   │               └── ref_region (1815)\n",
      "│   ├── t_ns\n",
      "│   │   ├── data (198)\n",
      "│   │   └── ref\n",
      "│   │       └── light\n",
      "│   │           └── events\n",
      "│   │               └── ref_region (198)\n",
      "│   └── wvfm\n",
      "│       ├── data (198)\n",
      "│       └── ref\n",
      "│           └── light\n",
      "│               └── events\n",
      "│                   └── ref_region (198)\n",
      "├── mc_truth\n",
      "│   ├── calib_final_hit_backtrack\n",
      "│   │   ├── data (73395)\n",
      "│   │   └── ref\n",
      "│   │       └── charge\n",
      "│   │           └── calib_final_hits\n",
      "│   │               └── ref_region (73395)\n",
      "│   ├── calib_prompt_hit_backtrack\n",
      "│   │   ├── data (109097)\n",
      "│   │   └── ref\n",
      "│   │       └── charge\n",
      "│   │           └── calib_prompt_hits\n",
      "│   │               └── ref_region (109097)\n",
      "│   ├── interactions\n",
      "│   │   ├── data (664)\n",
      "│   │   └── ref\n",
      "│   │       ├── charge\n",
      "│   │       │   └── raw_events\n",
      "│   │       │       └── ref_region (664)\n",
      "│   │       └── mc_truth\n",
      "│   │           ├── segments\n",
      "│   │           │   ├── ref (101826)\n",
      "│   │           │   └── ref_region (664)\n",
      "│   │           ├── stack\n",
      "│   │           │   ├── ref (6520)\n",
      "│   │           │   └── ref_region (664)\n",
      "│   │           └── trajectories\n",
      "│   │               ├── ref (73054)\n",
      "│   │               └── ref_region (664)\n",
      "│   ├── light\n",
      "│   │   └── data (101468)\n",
      "│   ├── packet_fraction\n",
      "│   │   ├── data (476245)\n",
      "│   │   └── ref\n",
      "│   │       └── charge\n",
      "│   │           └── packets\n",
      "│   │               └── ref_region (476245)\n",
      "│   ├── segments\n",
      "│   │   ├── data (101826)\n",
      "│   │   └── ref\n",
      "│   │       ├── charge\n",
      "│   │       │   └── packets\n",
      "│   │       │       └── ref_region (101826)\n",
      "│   │       └── mc_truth\n",
      "│   │           ├── interactions\n",
      "│   │           │   └── ref_region (101826)\n",
      "│   │           └── trajectories\n",
      "│   │               └── ref_region (101826)\n",
      "│   ├── stack\n",
      "│   │   ├── data (6520)\n",
      "│   │   └── ref\n",
      "│   │       └── mc_truth\n",
      "│   │           ├── interactions\n",
      "│   │           │   └── ref_region (6520)\n",
      "│   │           └── trajectories\n",
      "│   │               ├── ref (5134)\n",
      "│   │               └── ref_region (6520)\n",
      "│   └── trajectories\n",
      "│       ├── data (73054)\n",
      "│       └── ref\n",
      "│           └── mc_truth\n",
      "│               ├── interactions\n",
      "│               │   └── ref_region (73054)\n",
      "│               ├── segments\n",
      "│               │   ├── ref (101826)\n",
      "│               │   └── ref_region (73054)\n",
      "│               └── stack\n",
      "│                   └── ref_region (73054)\n",
      "└── run_info\n"
     ]
    }
   ],
   "source": [
    "f = h5py.File(\"MiniRun5_1E19_RHC.convert2h5.01023.EDEPSIM.proto_nd_flow.h5\")\n",
    "h5_tree(f,skip_ref=True)"
   ]
  },
  {
   "cell_type": "code",
   "execution_count": 210,
   "id": "d558cc33-e14d-428a-a82e-33cdde356237",
   "metadata": {
    "tags": []
   },
   "outputs": [
    {
     "name": "stdout",
     "output_type": "stream",
     "text": [
      "├── events\n",
      "│   ├── data (198)\n",
      "│   └── ref\n",
      "│       ├── charge\n",
      "│       │   ├── events\n",
      "│       │   │   └── ref_region (198)\n",
      "│       │   └── ext_trigs\n",
      "│       │       └── ref_region (198)\n",
      "│       └── light\n",
      "│           ├── sipm_hits\n",
      "│           │   ├── ref (3167)\n",
      "│           │   └── ref_region (198)\n",
      "│           ├── sum_hits\n",
      "│           │   ├── ref (1815)\n",
      "│           │   └── ref_region (198)\n",
      "│           ├── t_ns\n",
      "│           │   ├── ref (198)\n",
      "│           │   └── ref_region (198)\n",
      "│           └── wvfm\n",
      "│               ├── ref (198)\n",
      "│               └── ref_region (198)\n",
      "├── sipm_hits\n",
      "│   ├── data (3167)\n",
      "│   └── ref\n",
      "│       └── light\n",
      "│           └── events\n",
      "│               └── ref_region (3167)\n",
      "├── sum_hits\n",
      "│   ├── data (1815)\n",
      "│   └── ref\n",
      "│       └── light\n",
      "│           └── events\n",
      "│               └── ref_region (1815)\n",
      "├── t_ns\n",
      "│   ├── data (198)\n",
      "│   └── ref\n",
      "│       └── light\n",
      "│           └── events\n",
      "│               └── ref_region (198)\n",
      "└── wvfm\n",
      "    ├── data (198)\n",
      "    └── ref\n",
      "        └── light\n",
      "            └── events\n",
      "                └── ref_region (198)\n"
     ]
    }
   ],
   "source": [
    "h5_tree(f[\"light\"])"
   ]
  },
  {
   "cell_type": "code",
   "execution_count": 211,
   "id": "7aef2418-666c-4eee-b210-0f6f1568389e",
   "metadata": {
    "tags": []
   },
   "outputs": [
    {
     "name": "stdout",
     "output_type": "stream",
     "text": [
      "├── anode_drift_coordinate\n",
      "│   └── data (257)\n",
      "├── det_bounds\n",
      "│   └── data (129)\n",
      "├── det_id\n",
      "│   └── data (481)\n",
      "├── det_rel_pos\n",
      "│   └── data (129)\n",
      "├── drift_dir\n",
      "│   └── data (257)\n",
      "├── pixel_coordinates_2D\n",
      "│   └── data (1638401)\n",
      "├── sipm_abs_pos\n",
      "│   └── data (481)\n",
      "├── sipm_rel_pos\n",
      "│   └── data (481)\n",
      "└── tile_id\n",
      "    └── data (4097)\n"
     ]
    }
   ],
   "source": [
    "h5_tree(f[\"geometry_info\"])"
   ]
  },
  {
   "cell_type": "code",
   "execution_count": 212,
   "id": "d890f7fe-5bb5-4e1f-a6d9-fd4e0ec673c3",
   "metadata": {
    "tags": []
   },
   "outputs": [
    {
     "data": {
      "text/plain": [
       "(481,)"
      ]
     },
     "execution_count": 212,
     "metadata": {},
     "output_type": "execute_result"
    }
   ],
   "source": [
    "f[\"geometry_info/sipm_abs_pos/data\"].shape"
   ]
  },
  {
   "cell_type": "markdown",
   "id": "0411e3ef-90dc-43c3-af67-51ca46a64714",
   "metadata": {},
   "source": [
    "## The More Basic Structure Check:"
   ]
  },
  {
   "cell_type": "code",
   "execution_count": 213,
   "id": "6e3bfd6c-ab77-4476-8abd-d9c3b04888e8",
   "metadata": {
    "tags": []
   },
   "outputs": [
    {
     "name": "stdout",
     "output_type": "stream",
     "text": [
      "charge/calib_final_hits/data\n",
      "charge/calib_final_hits/ref/charge/calib_prompt_hits/ref_region\n",
      "charge/calib_final_hits/ref/charge/events/ref_region\n",
      "charge/calib_final_hits/ref/charge/raw_events/ref_region\n",
      "charge/calib_final_hits/ref/mc_truth/calib_final_hit_backtrack/ref\n",
      "charge/calib_final_hits/ref/mc_truth/calib_final_hit_backtrack/ref_region\n",
      "charge/calib_prompt_hits/data\n",
      "charge/calib_prompt_hits/ref/charge/calib_final_hits/ref\n",
      "charge/calib_prompt_hits/ref/charge/calib_final_hits/ref_region\n",
      "charge/calib_prompt_hits/ref/charge/events/ref_region\n",
      "charge/calib_prompt_hits/ref/charge/packets/ref\n",
      "charge/calib_prompt_hits/ref/charge/packets/ref_region\n",
      "charge/calib_prompt_hits/ref/charge/raw_events/ref_region\n",
      "charge/calib_prompt_hits/ref/mc_truth/calib_prompt_hit_backtrack/ref\n",
      "charge/calib_prompt_hits/ref/mc_truth/calib_prompt_hit_backtrack/ref_region\n",
      "charge/events/data\n",
      "charge/events/ref/charge/calib_final_hits/ref\n",
      "charge/events/ref/charge/calib_final_hits/ref_region\n",
      "charge/events/ref/charge/calib_prompt_hits/ref\n",
      "charge/events/ref/charge/calib_prompt_hits/ref_region\n",
      "charge/events/ref/charge/ext_trigs/ref\n",
      "charge/events/ref/charge/ext_trigs/ref_region\n",
      "charge/events/ref/charge/raw_events/ref_region\n",
      "charge/events/ref/charge/raw_hits/ref\n",
      "charge/events/ref/charge/raw_hits/ref_region\n",
      "charge/events/ref/combined/t0/ref\n",
      "charge/events/ref/combined/t0/ref_region\n",
      "charge/events/ref/light/events/ref\n",
      "charge/events/ref/light/events/ref_region\n",
      "charge/ext_trigs/data\n",
      "charge/ext_trigs/ref/charge/events/ref_region\n",
      "charge/ext_trigs/ref/charge/raw_events/ref_region\n",
      "charge/ext_trigs/ref/light/events/ref\n",
      "charge/ext_trigs/ref/light/events/ref_region\n",
      "charge/packets/data\n",
      "charge/packets/ref/charge/calib_prompt_hits/ref_region\n",
      "charge/packets/ref/charge/packets_corr_ts/ref\n",
      "charge/packets/ref/charge/packets_corr_ts/ref_region\n",
      "charge/packets/ref/charge/raw_events/ref_region\n",
      "charge/packets/ref/charge/raw_hits/ref_region\n",
      "charge/packets/ref/mc_truth/packet_fraction/ref\n",
      "charge/packets/ref/mc_truth/packet_fraction/ref_region\n",
      "charge/packets/ref/mc_truth/segments/ref\n",
      "charge/packets/ref/mc_truth/segments/ref_region\n",
      "charge/packets_corr_ts/data\n",
      "charge/packets_corr_ts/ref/charge/packets/ref_region\n",
      "charge/raw_events/data\n",
      "charge/raw_events/ref/charge/calib_final_hits/ref\n",
      "charge/raw_events/ref/charge/calib_final_hits/ref_region\n",
      "charge/raw_events/ref/charge/calib_prompt_hits/ref\n",
      "charge/raw_events/ref/charge/calib_prompt_hits/ref_region\n",
      "charge/raw_events/ref/charge/events/ref\n",
      "charge/raw_events/ref/charge/events/ref_region\n",
      "charge/raw_events/ref/charge/ext_trigs/ref\n",
      "charge/raw_events/ref/charge/ext_trigs/ref_region\n",
      "charge/raw_events/ref/charge/packets/ref\n",
      "charge/raw_events/ref/charge/packets/ref_region\n",
      "charge/raw_events/ref/charge/raw_hits/ref\n",
      "charge/raw_events/ref/charge/raw_hits/ref_region\n",
      "charge/raw_events/ref/mc_truth/interactions/ref\n",
      "charge/raw_events/ref/mc_truth/interactions/ref_region\n",
      "charge/raw_hits/data\n",
      "charge/raw_hits/ref/charge/events/ref_region\n",
      "charge/raw_hits/ref/charge/packets/ref\n",
      "charge/raw_hits/ref/charge/packets/ref_region\n",
      "charge/raw_hits/ref/charge/raw_events/ref_region\n",
      "charge/raw_hits/ref/combined/t0/ref\n",
      "charge/raw_hits/ref/combined/t0/ref_region\n",
      "combined/t0/data\n",
      "combined/t0/ref/charge/events/ref_region\n",
      "combined/t0/ref/charge/raw_hits/ref_region\n",
      "geometry_info/anode_drift_coordinate/data\n",
      "geometry_info/det_bounds/data\n",
      "geometry_info/det_id/data\n",
      "geometry_info/det_rel_pos/data\n",
      "geometry_info/drift_dir/data\n",
      "geometry_info/pixel_coordinates_2D/data\n",
      "geometry_info/sipm_abs_pos/data\n",
      "geometry_info/sipm_rel_pos/data\n",
      "geometry_info/tile_id/data\n",
      "light/events/data\n",
      "light/events/ref/charge/events/ref_region\n",
      "light/events/ref/charge/ext_trigs/ref_region\n",
      "light/events/ref/light/sipm_hits/ref\n",
      "light/events/ref/light/sipm_hits/ref_region\n",
      "light/events/ref/light/sum_hits/ref\n",
      "light/events/ref/light/sum_hits/ref_region\n",
      "light/events/ref/light/t_ns/ref\n",
      "light/events/ref/light/t_ns/ref_region\n",
      "light/events/ref/light/wvfm/ref\n",
      "light/events/ref/light/wvfm/ref_region\n",
      "light/sipm_hits/data\n",
      "light/sipm_hits/ref/light/events/ref_region\n",
      "light/sum_hits/data\n",
      "light/sum_hits/ref/light/events/ref_region\n",
      "light/t_ns/data\n",
      "light/t_ns/ref/light/events/ref_region\n",
      "light/wvfm/data\n",
      "light/wvfm/ref/light/events/ref_region\n",
      "mc_truth/calib_final_hit_backtrack/data\n",
      "mc_truth/calib_final_hit_backtrack/ref/charge/calib_final_hits/ref_region\n",
      "mc_truth/calib_prompt_hit_backtrack/data\n",
      "mc_truth/calib_prompt_hit_backtrack/ref/charge/calib_prompt_hits/ref_region\n",
      "mc_truth/interactions/data\n",
      "mc_truth/interactions/ref/charge/raw_events/ref_region\n",
      "mc_truth/interactions/ref/mc_truth/segments/ref\n",
      "mc_truth/interactions/ref/mc_truth/segments/ref_region\n",
      "mc_truth/interactions/ref/mc_truth/stack/ref\n",
      "mc_truth/interactions/ref/mc_truth/stack/ref_region\n",
      "mc_truth/interactions/ref/mc_truth/trajectories/ref\n",
      "mc_truth/interactions/ref/mc_truth/trajectories/ref_region\n",
      "mc_truth/light/data\n",
      "mc_truth/packet_fraction/data\n",
      "mc_truth/packet_fraction/ref/charge/packets/ref_region\n",
      "mc_truth/segments/data\n",
      "mc_truth/segments/ref/charge/packets/ref_region\n",
      "mc_truth/segments/ref/mc_truth/interactions/ref_region\n",
      "mc_truth/segments/ref/mc_truth/trajectories/ref_region\n",
      "mc_truth/stack/data\n",
      "mc_truth/stack/ref/mc_truth/interactions/ref_region\n",
      "mc_truth/stack/ref/mc_truth/trajectories/ref\n",
      "mc_truth/stack/ref/mc_truth/trajectories/ref_region\n",
      "mc_truth/trajectories/data\n",
      "mc_truth/trajectories/ref/mc_truth/interactions/ref_region\n",
      "mc_truth/trajectories/ref/mc_truth/segments/ref\n",
      "mc_truth/trajectories/ref/mc_truth/segments/ref_region\n",
      "mc_truth/trajectories/ref/mc_truth/stack/ref_region\n"
     ]
    }
   ],
   "source": [
    "my_func = lambda name,dset : print(name) if isinstance(dset, h5py.Dataset) \\\n",
    "    else None\n",
    "f.visititems(my_func)"
   ]
  },
  {
   "cell_type": "markdown",
   "id": "56249b78-d0e6-4a2a-bbed-299b6f6e2c87",
   "metadata": {},
   "source": [
    "### When Referencing: \n",
    "\n",
    "There are two types of reference branch: \n",
    "1. a.../ref/b.../ref_region\n",
    "2. a.../ref/b.../ref\n",
    "\n",
    "Typically, you use both to reference (unless you use the h5flow dereference function)  \n",
    "Suppose you want to find the calib_final_hits associated with a given event ID.    \n",
    "charge/event/data and charge/calib_final_hits/data are different sizes! \n",
    "\n",
    "How do we start with charge/events/data and end with an appropriate index cut for calib_final_hits?"
   ]
  },
  {
   "cell_type": "code",
   "execution_count": 214,
   "id": "680ee9b9-86b6-49e2-8d83-1b72a5f2c8c0",
   "metadata": {
    "tags": []
   },
   "outputs": [],
   "source": [
    "ev_id = 0\n",
    "event = f['charge/events/data'][ev_id]"
   ]
  },
  {
   "cell_type": "markdown",
   "id": "8a695ae6-f430-4062-a2af-9b497dea84fa",
   "metadata": {},
   "source": [
    "First, we use a.../ref/b.../ref_region.   \n",
    "a.../ref/b.../ref_region is an array of arrays like [[0 2][3 7]...]   \n",
    "It has as many entries as a..., such that its shape is: [len(a...), 2] with keys ['start', 'stop']    \n",
    "'start' is the first index in b... asociated with the ev_id.    \n",
    "'stop' is the last index in b... assiciated with ev_id   \n",
    "b... should be the branch you want to perform a cut on."
   ]
  },
  {
   "cell_type": "code",
   "execution_count": 215,
   "id": "b4b5d169-acf7-4575-b02c-f92165f52ae1",
   "metadata": {
    "tags": []
   },
   "outputs": [],
   "source": [
    "href_start = f['charge/events/ref/charge/calib_final_hits/ref_region'][ev_id,'start']\n",
    "href_stop = f['charge/events/ref/charge/calib_final_hits/ref_region'][ev_id,'stop']"
   ]
  },
  {
   "cell_type": "markdown",
   "id": "2221d1ec-a5f6-4eb9-99aa-88969d62cc17",
   "metadata": {},
   "source": [
    "Here we apply the cut to  a.../ref/b.../ref.    \n",
    "This outputs an array with [ev_id, b... index] for every b... indice linked to ev_id."
   ]
  },
  {
   "cell_type": "code",
   "execution_count": 216,
   "id": "6ab1bfd5-62cf-47da-a936-c601fe8a7800",
   "metadata": {
    "tags": []
   },
   "outputs": [],
   "source": [
    "hit_ref = f['charge/events/ref/charge/calib_final_hits/ref'][href_start:href_stop]"
   ]
  },
  {
   "cell_type": "markdown",
   "id": "6808b1a1-bdb4-4fa5-a502-3d4bbf4462f7",
   "metadata": {},
   "source": [
    "Cuts need to be a sequential array, so we make sure there's only one ev_id, and the indices are ordered.   \n",
    "Then, we apply the cut. "
   ]
  },
  {
   "cell_type": "code",
   "execution_count": 217,
   "id": "3ff2c535-4457-470c-babd-7acb5eaac049",
   "metadata": {
    "tags": []
   },
   "outputs": [
    {
     "name": "stdout",
     "output_type": "stream",
     "text": [
      "('id', 'x', 'y', 'z', 't_drift', 'ts_pps', 'io_group', 'io_channel', 'Q', 'E')\n"
     ]
    }
   ],
   "source": [
    "hit_ref = np.sort(hit_ref[hit_ref[:,0] == ev_id, 1])\n",
    "hits_trk = f['charge/calib_final_hits/data'][hit_ref]\n",
    "print(f['charge/calib_final_hits/data'].dtype.names)"
   ]
  },
  {
   "cell_type": "markdown",
   "id": "4448e662-7dbd-441a-ab11-c2cd075bcb52",
   "metadata": {},
   "source": [
    "If we format this as a function:"
   ]
  },
  {
   "cell_type": "code",
   "execution_count": 218,
   "id": "7e846782-bda9-43b7-b665-622f53434ebb",
   "metadata": {
    "tags": []
   },
   "outputs": [],
   "source": [
    "def one_to_many(event_id, h5file, one_entry_field, many_entry_field):\n",
    "    print(one_entry_field+'/data')\n",
    "    one_index = h5file[one_entry_field+'/data'][event_id]\n",
    "    print(one_entry_field+'/ref/'+many_entry_field+'/ref_region')\n",
    "    href_start = h5file[one_entry_field+'/ref/'+many_entry_field+'/ref_region'][event_id, 'start']\n",
    "    href_stop = h5file[one_entry_field+'/ref/'+many_entry_field+'/ref_region'][event_id, 'stop']\n",
    "    h_ref = h5file[one_entry_field+'/ref/'+many_entry_field+'/ref'][href_start:href_stop]\n",
    "    h_ref = np.sort(h_ref[h_ref[:,0] == event_id, 1])\n",
    "    print(many_entry_field+'/data')\n",
    "    h_trk = h5file[many_entry_field+'/data'][h_ref]\n",
    "    \n",
    "    return h_trk"
   ]
  },
  {
   "cell_type": "markdown",
   "id": "b56392b0-caf5-4807-a5bc-b4ff1ea18ab1",
   "metadata": {},
   "source": [
    "Let's try it in a plot:"
   ]
  },
  {
   "cell_type": "code",
   "execution_count": 219,
   "id": "53f86122-d7ce-4651-8161-da9d35cd0a3f",
   "metadata": {
    "tags": []
   },
   "outputs": [],
   "source": [
    "def ndflow_charge_plot(event_id, h5file, one_entry_field, many_entry_field):\n",
    "    \n",
    "    hits_trk = one_to_many(event_id, h5file, one_entry_field, many_entry_field)\n",
    "    \n",
    "    x_pos = hits_trk['x'] # [cm], drift direction\n",
    "    io_groups = hits_trk['io_group']\n",
    "    y_pos = hits_trk['y']\n",
    "    z_pos = hits_trk['z'] \n",
    "    \n",
    "    fig,ax = plt.subplots(1,1,sharey=True, tight_layout=True, figsize=(13, 7))\n",
    "    tpc_rectL = plt.Rectangle((-64.5,-65), 64, 130, linewidth=0.75, edgecolor='b', facecolor=cmap(0),zorder=-1)\n",
    "    tpc_rectR = plt.Rectangle((0.5,-65), 64, 130, linewidth=0.75, edgecolor='b', facecolor=cmap(0),zorder=-1)\n",
    "\n",
    "    ax.add_patch(tpc_rectR)\n",
    "    ax.add_patch(tpc_rectL)\n",
    "    \n",
    "    ax.scatter(z_pos[io_groups==3],y_pos[io_groups==3],c='aqua',alpha=1,lw=1.5,s=8)\n",
    "    ax.scatter(z_pos[io_groups==1],y_pos[io_groups==1],c='aqua',alpha=1,lw=1.5,s=8)\n",
    "    ax.scatter(z_pos[io_groups==4],y_pos[io_groups==4],c='lightgreen',alpha=1,lw=1.5,s=8) \n",
    "    ax.scatter(z_pos[io_groups==2],y_pos[io_groups==2],c='lightgreen',alpha=1,lw=1.5,s=8)  \n",
    "    ax.scatter(z_pos[io_groups==7],y_pos[io_groups==7],c='yellow',alpha=1,lw=1.5,s=8)\n",
    "    ax.scatter(z_pos[io_groups==5],y_pos[io_groups==5],c='yellow',alpha=1,lw=1.5,s=8)\n",
    "    ax.scatter(z_pos[io_groups==8],y_pos[io_groups==8],c='orangered',alpha=1,lw=1.5,s=8)                       \n",
    "    ax.scatter(z_pos[io_groups==6],y_pos[io_groups==6],c='orangered',alpha=1,lw=1.5,s=8)\n",
    "            \n",
    "    ax.set_aspect(\"equal\")\n",
    "    ax.set_title('All Tracks')\n",
    "\n",
    "    ax.set_xlabel(\"z [cm]\")\n",
    "    ax.set_ylabel(\"y [cm]\")\n",
    "    b_patch = mpatches.Patch(color='aqua', label='io_groups: 1,3')\n",
    "    g_patch = mpatches.Patch(color='lightgreen', label='io_groups: 2,4')\n",
    "    y_patch = mpatches.Patch(color='yellow', label='io_groups: 5,7')\n",
    "    o_patch = mpatches.Patch(color='orangered', label='io_groups: 6,8')\n",
    "    ax.legend(handles=[b_patch, g_patch,y_patch,o_patch],\n",
    "          loc='lower left',ncol = 4, bbox_to_anchor=(-0.11,-0.2))\n",
    "    plt.show()"
   ]
  },
  {
   "cell_type": "code",
   "execution_count": 220,
   "id": "58c6957f-5976-450c-aa7c-b4e2e58e640c",
   "metadata": {
    "tags": []
   },
   "outputs": [
    {
     "name": "stdout",
     "output_type": "stream",
     "text": [
      "charge/events/data\n",
      "charge/events/ref/charge/calib_final_hits/ref_region\n",
      "charge/calib_final_hits/data\n"
     ]
    },
    {
     "data": {
      "image/png": "[encoded data removed]",
      "text/plain": [
       "<Figure size 1300x700 with 1 Axes>"
      ]
     },
     "metadata": {},
     "output_type": "display_data"
    }
   ],
   "source": [
    "cmap = cm.jet\n",
    "ndflow_charge_plot(5, f, 'charge/events', 'charge/calib_final_hits')"
   ]
  },
  {
   "cell_type": "markdown",
   "id": "c8699d6a-fd91-43b6-ab2a-3d9be6519929",
   "metadata": {},
   "source": [
    "Now with light:\n",
    "\n",
    "Note, for event 5, we're mainly in io_group 1."
   ]
  },
  {
   "cell_type": "code",
   "execution_count": 221,
   "id": "5026dab8-9879-4d21-b8de-a54b7a599110",
   "metadata": {
    "tags": []
   },
   "outputs": [
    {
     "name": "stdout",
     "output_type": "stream",
     "text": [
      "charge/events/data\n",
      "charge/events/ref/light/events/ref_region\n",
      "light/events/data\n",
      "Light/events keys: ('id', 'event', 'sn', 'utime_ms', 'tai_ns', 'wvfm_valid')\n",
      "light/events/data\n",
      "light/events/ref/light/wvfm/ref_region\n",
      "light/wvfm/data\n",
      "Light/wvfms key: ('samples',)\n",
      "samples shape: (1, 8, 64, 1000)\n"
     ]
    }
   ],
   "source": [
    "light_evts = one_to_many(5, f, 'charge/events', 'light/events')\n",
    "print('Light/events keys:',light_evts.dtype.names)\n",
    "light_wvfms = one_to_many(light_evts['id'][0], f, 'light/events', 'light/wvfm')\n",
    "print('Light/wvfms key:', light_wvfms.dtype.names)\n",
    "print('samples shape:', np.shape(light_wvfms['samples']))"
   ]
  },
  {
   "cell_type": "markdown",
   "id": "1175ea45-c0d9-4a8c-8882-58686474bd43",
   "metadata": {},
   "source": [
    "### A note on geometry:\n",
    "\n",
    "Every ADC has 64 available channels.   \n",
    "Per ADC, the 2x2 light LRS uses 48 of those 64 channels to collect light waveforms.   \n",
    "We can use f['light/events/data']['wvfm_valid'] to select for this. "
   ]
  },
  {
   "cell_type": "code",
   "execution_count": 222,
   "id": "c7527847-7a68-4644-b180-db8be1a9bc08",
   "metadata": {
    "tags": []
   },
   "outputs": [
    {
     "name": "stdout",
     "output_type": "stream",
     "text": [
      "Valid Waveform Shape: (1, 8, 64)\n",
      "New Light Waveform Shape: (48, 1000)\n"
     ]
    }
   ],
   "source": [
    "valid_wvfm = light_evts['wvfm_valid']\n",
    "print('Valid Waveform Shape:',np.shape(valid_wvfm))\n",
    "wvfms_0 = light_wvfms['samples'][0,0,:][valid_wvfm[0,0,:]==1]\n",
    "print('New Light Waveform Shape:',np.shape(wvfms_0))"
   ]
  },
  {
   "cell_type": "code",
   "execution_count": 223,
   "id": "7a4053fb-5954-4e32-97a4-67941ddb6962",
   "metadata": {
    "tags": []
   },
   "outputs": [
    {
     "data": {
      "image/png": "[encoded data removed]",
      "text/plain": [
       "<Figure size 1200x300 with 1 Axes>"
      ]
     },
     "metadata": {},
     "output_type": "display_data"
    }
   ],
   "source": [
    "SAMPLES = 1000\n",
    "fig = plt.figure(figsize=(12,3))\n",
    "plt.plot(np.linspace(0,SAMPLES-1,SAMPLES),wvfms_0[5,:], 'm-')\n",
    "plt.title('Single Light Waveform', fontsize=16)\n",
    "plt.xlabel(r'Time Sample [0.01 $\\mu$s]', fontsize=14)\n",
    "plt.ylabel('SiPM Channel Output', fontsize=14)\n",
    "#plt.legend(fontsize=14)\n",
    "plt.show()"
   ]
  },
  {
   "cell_type": "markdown",
   "id": "dfe51fec-ac52-45cf-92cb-ee14ef777f93",
   "metadata": {},
   "source": [
    "### Import geometry info"
   ]
  },
  {
   "cell_type": "markdown",
   "id": "5d0ccf9a-5c70-4c92-8b63-c7ecea8333cd",
   "metadata": {},
   "source": [
    "Realised yesterday that \"geometry_info\" in the current form is not useful. So here for the moment a bush fix..."
   ]
  },
  {
   "cell_type": "code",
   "execution_count": 224,
   "id": "c593a9e8-746e-45e2-9c9e-026860a521e0",
   "metadata": {
    "tags": []
   },
   "outputs": [],
   "source": [
    "sipm_abs_pos_dtype_meta = np.dtype([('min_max_keys', 'i8', (2, 2)),('default', 'f4', (3,))])\n",
    "sipm_abs_pos_meta_arr = np.zeros((1,), dtype=sipm_abs_pos_dtype_meta)\n",
    "sipm_abs_pos_meta_arr['min_max_keys'] = ((0,7),(4,63))\n",
    "sipm_abs_pos_meta_arr['default'] = -1\n",
    "sipm_abs_pos = LUT.from_array(sipm_abs_pos_meta_arr,f[\"geometry_info/sipm_abs_pos/data\"])\n",
    "\n",
    "# sipm_abs_pos[(adc,chan)] = [x,y,z] in cm"
   ]
  },
  {
   "cell_type": "code",
   "execution_count": 225,
   "id": "13f72d69-4c75-4b6c-8327-21282bb18f1e",
   "metadata": {
    "tags": []
   },
   "outputs": [],
   "source": [
    "sipm_rel_pos_dtype_meta = np.dtype([('min_max_keys', 'i8', (2, 2)),('default', 'i4', (3,))])\n",
    "sipm_rel_pos_meta_arr = np.zeros((1,), dtype=sipm_rel_pos_dtype_meta)\n",
    "sipm_rel_pos_meta_arr['min_max_keys'] = ((0,7),(4,63))\n",
    "sipm_rel_pos_meta_arr['default'] = -1\n",
    "sipm_rel_pos = LUT.from_array(sipm_rel_pos_meta_arr,f[\"geometry_info/sipm_rel_pos/data\"])\n",
    "\n",
    "# sipm_rel_pos[(adc,chan)] = [tpc, side, vertical position]\n",
    "# side: 0->left 1->right looking in drift direction\n",
    "# vertical position: index starting from bottom (0-23)"
   ]
  },
  {
   "cell_type": "code",
   "execution_count": 226,
   "id": "13988c4f-55d2-40bf-b3f0-ec3e59e3c3a2",
   "metadata": {
    "tags": []
   },
   "outputs": [],
   "source": [
    "det_bounds_dtype_meta = np.dtype([('min_max_keys', 'i8', (2, 2)),('default', 'f4', (2,3))])\n",
    "det_bounds_meta_arr = np.zeros((1,), dtype=det_bounds_dtype_meta)\n",
    "det_bounds_meta_arr['min_max_keys'] = ((0,7),(0,15))\n",
    "det_bounds_meta_arr['default'] = 0\n",
    "det_bounds = LUT.from_array(det_bounds_meta_arr,f[\"geometry_info/det_bounds/data\"])\n",
    "\n",
    "# det_bounds[(tpc,det)] = [[x_min, y_min, z_min],[x_max, y_max, z_max]] in cm "
   ]
  },
  {
   "cell_type": "code",
   "execution_count": 227,
   "id": "22438167-d843-4c7f-858b-3b1e9da82a7c",
   "metadata": {
    "tags": []
   },
   "outputs": [],
   "source": [
    "det_rel_pos_dtype_meta = np.dtype([('min_max_keys', 'i8', (2, 2)),('default', 'i4', (3,))])\n",
    "det_rel_pos_meta_arr = np.zeros((1,), dtype=det_rel_pos_dtype_meta)\n",
    "det_rel_pos_meta_arr['min_max_keys'] = ((0,7),(0,15))\n",
    "det_rel_pos_meta_arr['default'] = -1\n",
    "det_rel_pos = LUT.from_array(det_rel_pos_meta_arr,f[\"geometry_info/det_rel_pos/data\"])\n",
    "\n",
    "# det_rel_pos[(adc,chan)] = [tpc, side, vertical position]\n",
    "# side: 0->left 1->right looking in drift direction\n",
    "# vertical position: index starting from bottom (0-15)"
   ]
  },
  {
   "cell_type": "code",
   "execution_count": 228,
   "id": "9a7eb8a7-379f-4d99-b284-e2f799dc4bef",
   "metadata": {
    "tags": []
   },
   "outputs": [],
   "source": [
    "det_id_dtype_meta = np.dtype([('min_max_keys', 'i8', (2, 2)),('default', 'i4')])\n",
    "det_id_meta_arr = np.zeros((1,), dtype=det_id_dtype_meta)\n",
    "det_id_meta_arr['min_max_keys'] = ((0,7),(4,63))\n",
    "det_id_meta_arr['default'] = -1\n",
    "det_id = LUT.from_array(det_id_meta_arr,f[\"geometry_info/det_id/data\"])\n",
    "\n",
    "# det_id[(adc,chan)] = det"
   ]
  },
  {
   "cell_type": "markdown",
   "id": "55c5bc69-94cf-43cb-9f51-7732a51d6532",
   "metadata": {},
   "source": [
    "## Plot waveform with hits"
   ]
  },
  {
   "cell_type": "markdown",
   "id": "f6f79ec6-2af7-487c-8a84-b8a34c532dfa",
   "metadata": {},
   "source": [
    "Here event = trigger-event =spill !"
   ]
  },
  {
   "cell_type": "code",
   "execution_count": 229,
   "id": "593b587e-2c2e-49c6-a814-8755e263c3fb",
   "metadata": {
    "tags": []
   },
   "outputs": [
    {
     "name": "stdout",
     "output_type": "stream",
     "text": [
      "WVFM shape:\t (198,)\n",
      "Events shape:\t (198,)\n",
      "Hits shape:\t (1815,)\n"
     ]
    }
   ],
   "source": [
    "lwvfm = f['light/wvfm/data']\n",
    "levent = f['light/events/data']\n",
    "leventhitref = f['light/events/ref']['light/sum_hits']['ref']\n",
    "leventwvfmref = f['light/events/ref']['light/wvfm']['ref']\n",
    "lhits = f['light/sum_hits/data']\n",
    "print(\"WVFM shape:\\t\",lwvfm.shape)\n",
    "print(\"Events shape:\\t\",levent.shape)\n",
    "print(\"Hits shape:\\t\",lhits.shape)"
   ]
  },
  {
   "cell_type": "code",
   "execution_count": 230,
   "id": "d7b9558d-8f8d-466c-98ba-da5b21239cc6",
   "metadata": {
    "tags": []
   },
   "outputs": [],
   "source": [
    "spill=4"
   ]
  },
  {
   "cell_type": "code",
   "execution_count": 231,
   "id": "98234fbc-e148-4c78-8815-d2873bfed57f",
   "metadata": {
    "tags": []
   },
   "outputs": [
    {
     "name": "stdout",
     "output_type": "stream",
     "text": [
      "#Hits found:  15\n"
     ]
    },
    {
     "data": {
      "image/png": "[encoded data removed]",
      "text/plain": [
       "<Figure size 400x400 with 1 Axes>"
      ]
     },
     "metadata": {},
     "output_type": "display_data"
    }
   ],
   "source": [
    "#Get assosciated light data\n",
    "lev_id = spill #To be fixed: Only true for beam only simulation\n",
    "lev_wvfm = dereference(lev_id,leventwvfmref,lwvfm)[0][\"samples\"]\n",
    "lev_hits = dereference(lev_id,leventhitref,lhits)[0]\n",
    "\n",
    "#Plot waveform\n",
    "fig, ax = plt.subplots(1,figsize=(4,4))\n",
    "for i,j in itertools.product(range(lev_wvfm[0].shape[0]),range(lev_wvfm[0].shape[1])):\n",
    "    ax.plot(np.arange(1000),lev_wvfm[0][i,j,:],linewidth=0.5)\n",
    "ax.set_ylim(*ax.get_ylim()) #Stupid matplot bug\n",
    "\n",
    "#Plot hits\n",
    "print(\"#Hits found: \",(~np.isnan(lev_hits[\"sample_idx\"])).sum())\n",
    "if np.any(lev_hits[\"sample_idx\"]):\n",
    "    hit_array = np.zeros((len(lev_hits),4))\n",
    "    hit_array[:,0] = lev_hits[\"sample_idx\"].ravel()\n",
    "    hit_array[:,2] = lev_hits[\"sample_idx\"].ravel()\n",
    "    hit_array[:,1] = ax.get_ylim()[0]\n",
    "    hit_array[:,3] = ymax=ax.get_ylim()[0]/3\n",
    "    hit_plot = plt.plot(hit_array[:,::2].T, hit_array[:, 1::2].T,color=\"red\")\n",
    "    plt.legend([hit_plot[0]],['sum hits'],loc='best')\n",
    "\n",
    "ax.set_title('Spill %d' %spill)\n",
    "ax.set_xlabel(\"sample [16ns]\")\n",
    "ax.set_ylabel(\"ADC value\")\n",
    "spill+=1"
   ]
  },
  {
   "cell_type": "markdown",
   "id": "3fdd13a0-d4d4-401f-9d3b-77907512ad8f",
   "metadata": {
    "tags": []
   },
   "source": [
    "### Hit structure\n",
    "| Name              | Type             | Description                                                                                             |\n",
    "| ----------------- | ---------------- | ------------------------------------------------------------------------------------------------------- |\n",
    "| id                | u4,              | unique identifier                                                                                       |\n",
    "| adc_id / tpc      | u1,              | tpc or adc index                                                                                        |\n",
    "| chan / det        | u1,              | detector or channel index                                                                               |\n",
    "| pos / boundary    | f4(3) / f4(3,2), | (x,y,z) center of sipm / ((xmin,xmax), (ymin,ymax), (zmin,zmax)) boundary of detector sensitive surface |\n",
    "| sample_idx        | u2,              | sample index of peak within waveform                                                                    |\n",
    "| ns                | f8,              | WR timestamp of waveform [ns]                                                                           |\n",
    "| busy_ns           | f8,              | timestamp of peak relative to trigger [ns]                                                              |\n",
    "| samples           | f4(2\\*near+1,),  | sample value around peak (±near_samples)                                                                |\n",
    "| sum               | f4,              | sum of sample values (out to ±near_samples)                                                             |\n",
    "| max               | f4,              | peak value                                                                                              |\n",
    "| sum_spline        | f4,              | integral of spline around peak (out to ±near_samples)                                                   |\n",
    "| max_spline        | f4,              | maximum of spline around peak                                                                           |\n",
    "| ns_spline         | f4,              | offset from center sample for maximum of spline [ns]                                                    |\n",
    "| rising_spline     | f4,              | projection of spline to rising edge zero-crossing (offset from center sample) [ns]                      |\n",
    "| rising_err_spline | f4,              | an estimate of the error on the rising edge zero-                                                       |\n",
    "| fwhm_spline       | f4,              | spline FWHM [ns] "
   ]
  },
  {
   "cell_type": "markdown",
   "id": "2fac343b-76e3-42dc-ab9b-6d0585a10d6c",
   "metadata": {},
   "source": [
    "# Charge Light combined plot"
   ]
  },
  {
   "cell_type": "code",
   "execution_count": 232,
   "id": "60956bc9-4020-4a8a-bd9b-54a64274b78b",
   "metadata": {
    "tags": []
   },
   "outputs": [],
   "source": [
    "chits = f['/charge/calib_prompt_hits/data']\n",
    "cevents = f['charge/events/data']\n",
    "ceventchitref = f['charge/events/ref/charge/calib_prompt_hits']['ref']\n",
    "ceventleventref = f['charge/events/ref/light/events']['ref']"
   ]
  },
  {
   "cell_type": "code",
   "execution_count": 233,
   "id": "dda8f6b8-67de-4098-a51d-aa36d73c6834",
   "metadata": {
    "tags": []
   },
   "outputs": [],
   "source": [
    "spill = 4"
   ]
  },
  {
   "cell_type": "code",
   "execution_count": 234,
   "id": "ff63d7c1-4300-49ce-8c5e-044135ae339b",
   "metadata": {
    "tags": []
   },
   "outputs": [
    {
     "data": {
      "image/png": "[encoded data removed]",
      "text/plain": [
       "<Figure size 800x800 with 8 Axes>"
      ]
     },
     "metadata": {},
     "output_type": "display_data"
    }
   ],
   "source": [
    "### Event display\n",
    "\n",
    "#Get light data\n",
    "lev_id = spill #To be fixed: Only true for beam only simulation\n",
    "lev_wvfm = dereference(lev_id,leventwvfmref,lwvfm)[0][\"samples\"]\n",
    "lev_hits = dereference(lev_id,leventhitref,lhits)[0]\n",
    "\n",
    "#Get charge data\n",
    "#cevent = dereference(lev_id,ceventleventref,cevents,ref_direction = (1,0),indices_only = True)[0]\n",
    "cev_hits = dereference(3,ceventchitref,chits)\n",
    "\n",
    "#Prepare plot\n",
    "fig = plt.figure(layout='constrained', figsize=(8, 8))\n",
    "fig.suptitle(\"Spill %d\" % spill,fontsize='xx-large')\n",
    "subfigs = fig.subfigures(2, 2, wspace=0.07)\n",
    "ax=[]\n",
    "\n",
    "#Prepare color map for light\n",
    "cmap=plt.cm.viridis\n",
    "norm = plt.Normalize(0,lev_wvfm[0].sum(axis=-1).max())\n",
    "c = norm(lev_wvfm[0].sum(axis=-1))\n",
    "\n",
    "#Define TPC borders\n",
    "drift_length = 30.27225 # cm\n",
    "drift_length = 35.27225 # cm\n",
    "xbound=np.array([[0,drift_length],[-drift_length,0]])\n",
    "ybound=np.array([-65.0,65.0])\n",
    "zbound=np.array([-32.5,32.5])\n",
    "mod_offsets = [\n",
    "    [33.5, 0., 33.5],\n",
    "    [33.5, 0., -33.5],\n",
    "    [-33.5, 0., 33.5],\n",
    "    [-33.5, 0., -33.5]]\n",
    "\n",
    "for mod in range(4):\n",
    "    subfigs[mod//2,mod%2].suptitle(\"Mod-%d\"%mod)\n",
    "    ax.append(subfigs[mod//2,mod%2].subplots(1,2))\n",
    "    for itpc in range(2):\n",
    "        ax[mod][itpc].set_xlim(*(mod_offsets[mod][2]+zbound))\n",
    "        ax[mod][itpc].set_ylim(*(mod_offsets[mod][1]+ybound))\n",
    "        \n",
    "        #Plot charge\n",
    "        c_xmask=np.logical_and(cev_hits[\"x\"]>(mod_offsets[mod][0]+xbound[itpc][0]),cev_hits[\"x\"]<(mod_offsets[mod][0]+xbound[itpc][1])) #select x region of tpc\n",
    "        ax[mod][itpc].scatter(cev_hits[c_xmask]['z'],cev_hits[c_xmask]['y'],c=cev_hits[c_xmask]['Q'],s=0.5,cmap='viridis',norm=mlp.colors.LogNorm())\n",
    "        \n",
    "        #Plot light\n",
    "        for i,j in itertools.product(range(lev_wvfm[0].shape[0]),range(lev_wvfm[0].shape[1])):\n",
    "            pos=sipm_abs_pos[(i,j)][0]\n",
    "            if pos[0]==-1:\n",
    "                continue\n",
    "            if np.logical_and(pos[0]>(mod_offsets[mod][0]+xbound[itpc][0]),pos[0]<(mod_offsets[mod][0]+xbound[itpc][1])):\n",
    "                #print(\"IN\")\n",
    "                rect = mlp.patches.Rectangle(np.flip(pos[1:]), 1, 4,facecolor = cmap(c[i,j]))\n",
    "                ax[mod][itpc].add_patch(rect)\n"
   ]
  },
  {
   "cell_type": "code",
   "execution_count": null,
   "id": "11020f8b-a31e-4d97-b4fd-78efa1fd2308",
   "metadata": {},
   "outputs": [],
   "source": []
  },
  {
   "cell_type": "code",
   "execution_count": null,
   "id": "902e1c6f-083c-46ed-b825-5e19acd37899",
   "metadata": {},
   "outputs": [],
   "source": []
  },
  {
   "cell_type": "code",
   "execution_count": null,
   "id": "6bd3720c-df49-4008-9fc2-831266ef0fce",
   "metadata": {},
   "outputs": [],
   "source": []
  },
  {
   "cell_type": "code",
   "execution_count": null,
   "id": "7efea721-c58d-4b5c-a5bf-216284134fa0",
   "metadata": {},
   "outputs": [],
   "source": []
  }
 ],
 "metadata": {
  "kernelspec": {
   "display_name": "NERSC Python",
   "language": "python",
   "name": "python3"
  },
  "language_info": {
   "codemirror_mode": {
    "name": "ipython",
    "version": 3
   },
   "file_extension": ".py",
   "mimetype": "text/x-python",
   "name": "python",
   "nbconvert_exporter": "python",
   "pygments_lexer": "ipython3",
   "version": "3.11.7"
  }
 },
 "nbformat": 4,
 "nbformat_minor": 5
}
