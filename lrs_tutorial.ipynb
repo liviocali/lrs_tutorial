{
 "cells": [
  {
   "cell_type": "markdown",
   "id": "40a117eb-f0a8-4974-a947-bfea34dcc369",
   "metadata": {},
   "source": [
    "# MiniRun5 LRS output tutorial"
   ]
  },
  {
   "cell_type": "code",
   "execution_count": null,
   "id": "c474a934-eab0-47d2-a74d-ea74f02a6562",
   "metadata": {
    "tags": []
   },
   "outputs": [],
   "source": [
    "#!git clone https://github.com/peter-madigan/h5flow\n",
    "!pip install ./h5flow"
   ]
  },
  {
   "cell_type": "code",
   "execution_count": null,
   "id": "904d5124-085e-4a82-8844-cccda7298947",
   "metadata": {
    "tags": []
   },
   "outputs": [],
   "source": [
    "#!git clone https://github.com/DUNE/ndlar_flow\n",
    "!pip install ./ndlar_flow"
   ]
  },
  {
   "cell_type": "code",
   "execution_count": null,
   "id": "28d1ed6d-84dc-4978-872f-c2751d19afa7",
   "metadata": {
    "tags": []
   },
   "outputs": [],
   "source": [
    "!wget https://portal.nersc.gov/project/dune/data/2x2/simulation/tutorial_jan2024_inputs/flow_output_example_MR5beta_LROsteroids.proto_nd_flow.h5"
   ]
  },
  {
   "cell_type": "code",
   "execution_count": null,
   "id": "3f59b771-b377-4a36-bcd9-c658fe465e13",
   "metadata": {
    "tags": []
   },
   "outputs": [],
   "source": [
    "import numpy as np\n",
    "import h5py\n",
    "import matplotlib.pyplot as plt\n",
    "from matplotlib import cm, colors\n",
    "import matplotlib.patches as mpatches\n",
    "import itertools\n",
    "\n",
    "from h5flow.data import dereference\n",
    "from proto_nd_flow.util.lut import LUT\n"
   ]
  },
  {
   "cell_type": "code",
   "execution_count": null,
   "id": "0ddf1c69-d4b4-4166-a189-8074c2f86e20",
   "metadata": {
    "tags": []
   },
   "outputs": [],
   "source": [
    "def h5_tree(val, pre='',skip_ref=False):\n",
    "    items = len(val)\n",
    "    for key, val in val.items():\n",
    "        items -= 1\n",
    "        if items == 0:\n",
    "            # the last item\n",
    "            if type(val) == h5py._hl.group.Group:\n",
    "                print(pre + '└── ' + key)\n",
    "                if key==\"ref\" and skip_ref:\n",
    "                    continue\n",
    "                h5_tree(val, pre+'    ')\n",
    "            else:\n",
    "                print(pre + '└── ' + key + ' (%d)' % len(val))\n",
    "        else:\n",
    "            if type(val) == h5py._hl.group.Group:\n",
    "                print(pre + '├── ' + key)\n",
    "                h5_tree(val, pre+'│   ')\n",
    "            else:\n",
    "                print(pre + '├── ' + key + ' (%d)' % len(val))"
   ]
  },
  {
   "cell_type": "markdown",
   "id": "17ade0af-8b0d-477e-8795-5baf5976481e",
   "metadata": {},
   "source": [
    "## Import ndlar_flow file"
   ]
  },
  {
   "cell_type": "code",
   "execution_count": null,
   "id": "a0041b3b-322c-4e0c-a4d8-16294e340bb5",
   "metadata": {
    "tags": []
   },
   "outputs": [],
   "source": [
    "#f = h5py.File(\"flow_output_example_MR5beta_LROsteroids.proto_nd_flow.h5\")\n",
    "f = h5py.File(\"../MiniRun5_1E19_RHC.larnd.00666.LARNDSIM.noisefix.proto_nd_flow.hdf5\")\n",
    "h5_tree(f,skip_ref=True)"
   ]
  },
  {
   "cell_type": "code",
   "execution_count": null,
   "id": "d558cc33-e14d-428a-a82e-33cdde356237",
   "metadata": {
    "tags": []
   },
   "outputs": [],
   "source": [
    "h5_tree(f[\"light\"])"
   ]
  },
  {
   "cell_type": "code",
   "execution_count": null,
   "id": "7aef2418-666c-4eee-b210-0f6f1568389e",
   "metadata": {
    "tags": []
   },
   "outputs": [],
   "source": [
    "h5_tree(f[\"geometry_info\"])"
   ]
  },
  {
   "cell_type": "markdown",
   "id": "0411e3ef-90dc-43c3-af67-51ca46a64714",
   "metadata": {},
   "source": [
    "## The More Basic Structure Check:"
   ]
  },
  {
   "cell_type": "code",
   "execution_count": null,
   "id": "6e3bfd6c-ab77-4476-8abd-d9c3b04888e8",
   "metadata": {
    "tags": []
   },
   "outputs": [],
   "source": [
    "my_func = lambda name,dset : print(name) if isinstance(dset, h5py.Dataset) \\\n",
    "    else None\n",
    "f.visititems(my_func)"
   ]
  },
  {
   "cell_type": "markdown",
   "id": "56249b78-d0e6-4a2a-bbed-299b6f6e2c87",
   "metadata": {},
   "source": [
    "### When Referencing: \n",
    "\n",
    "There are two types of reference branch: \n",
    "1. a.../ref/b.../ref_region\n",
    "2. a.../ref/b.../ref\n",
    "\n",
    "Typically, you use both to reference (unless you use the h5flow dereference function)  \n",
    "Suppose you want to find the calib_final_hits associated with a given event ID.    \n",
    "charge/event/data and charge/calib_final_hits/data are different sizes! \n",
    "\n",
    "How do we start with charge/events/data and end with an appropriate index cut for calib_final_hits?"
   ]
  },
  {
   "cell_type": "code",
   "execution_count": null,
   "id": "680ee9b9-86b6-49e2-8d83-1b72a5f2c8c0",
   "metadata": {
    "tags": []
   },
   "outputs": [],
   "source": [
    "ev_id = 0\n",
    "event = f['charge/events/data'][ev_id]"
   ]
  },
  {
   "cell_type": "markdown",
   "id": "8a695ae6-f430-4062-a2af-9b497dea84fa",
   "metadata": {},
   "source": [
    "First, we use a.../ref/b.../ref_region.   \n",
    "a.../ref/b.../ref_region is an array of arrays like [[0 2][3 7]...]   \n",
    "It has as many entries as a..., such that its shape is: [len(a...), 2] with keys ['start', 'stop']    \n",
    "'start' is the first index in b... asociated with the ev_id.    \n",
    "'stop' is the last index in b... assiciated with ev_id   \n",
    "b... should be the branch you want to perform a cut on."
   ]
  },
  {
   "cell_type": "code",
   "execution_count": null,
   "id": "b4b5d169-acf7-4575-b02c-f92165f52ae1",
   "metadata": {
    "tags": []
   },
   "outputs": [],
   "source": [
    "href_start = f['charge/events/ref/charge/calib_final_hits/ref_region'][ev_id,'start']\n",
    "href_stop = f['charge/events/ref/charge/calib_final_hits/ref_region'][ev_id,'stop']"
   ]
  },
  {
   "cell_type": "markdown",
   "id": "2221d1ec-a5f6-4eb9-99aa-88969d62cc17",
   "metadata": {},
   "source": [
    "Here we apply the cut to  a.../ref/b.../ref.    \n",
    "This outputs an array with [ev_id, b... index] for every b... indice linked to ev_id."
   ]
  },
  {
   "cell_type": "code",
   "execution_count": null,
   "id": "6ab1bfd5-62cf-47da-a936-c601fe8a7800",
   "metadata": {
    "tags": []
   },
   "outputs": [],
   "source": [
    "hit_ref = f['charge/events/ref/charge/calib_final_hits/ref'][href_start:href_stop]"
   ]
  },
  {
   "cell_type": "markdown",
   "id": "6808b1a1-bdb4-4fa5-a502-3d4bbf4462f7",
   "metadata": {},
   "source": [
    "Cuts need to be a sequential array, so we make sure there's only one ev_id, and the indices are ordered.   \n",
    "Then, we apply the cut. "
   ]
  },
  {
   "cell_type": "code",
   "execution_count": null,
   "id": "3ff2c535-4457-470c-babd-7acb5eaac049",
   "metadata": {
    "tags": []
   },
   "outputs": [],
   "source": [
    "hit_ref = np.sort(hit_ref[hit_ref[:,0] == ev_id, 1])\n",
    "hits_trk = f['charge/calib_final_hits/data'][hit_ref]\n",
    "print(f['charge/calib_final_hits/data'].dtype.names)"
   ]
  },
  {
   "cell_type": "markdown",
   "id": "4448e662-7dbd-441a-ab11-c2cd075bcb52",
   "metadata": {},
   "source": [
    "If we format this as a function:"
   ]
  },
  {
   "cell_type": "code",
   "execution_count": null,
   "id": "7e846782-bda9-43b7-b665-622f53434ebb",
   "metadata": {
    "tags": []
   },
   "outputs": [],
   "source": [
    "def one_to_many(event_id, h5file, one_entry_field, many_entry_field):\n",
    "    print(one_entry_field+'/data')\n",
    "    one_index = h5file[one_entry_field+'/data'][event_id]\n",
    "    print(one_entry_field+'/ref/'+many_entry_field+'/ref_region')\n",
    "    href_start = h5file[one_entry_field+'/ref/'+many_entry_field+'/ref_region'][event_id, 'start']\n",
    "    href_stop = h5file[one_entry_field+'/ref/'+many_entry_field+'/ref_region'][event_id, 'stop']\n",
    "    h_ref = h5file[one_entry_field+'/ref/'+many_entry_field+'/ref'][href_start:href_stop]\n",
    "    h_ref = np.sort(h_ref[h_ref[:,0] == event_id, 1])\n",
    "    print(many_entry_field+'/data')\n",
    "    h_trk = h5file[many_entry_field+'/data'][h_ref]\n",
    "    \n",
    "    return h_trk"
   ]
  },
  {
   "cell_type": "markdown",
   "id": "b56392b0-caf5-4807-a5bc-b4ff1ea18ab1",
   "metadata": {},
   "source": [
    "Let's try it in a plot:"
   ]
  },
  {
   "cell_type": "code",
   "execution_count": null,
   "id": "53f86122-d7ce-4651-8161-da9d35cd0a3f",
   "metadata": {
    "tags": []
   },
   "outputs": [],
   "source": [
    "def ndflow_charge_plot(event_id, h5file, one_entry_field, many_entry_field):\n",
    "    \n",
    "    hits_trk = one_to_many(event_id, h5file, one_entry_field, many_entry_field)\n",
    "    \n",
    "    x_pos = hits_trk['x'] # [cm], drift direction\n",
    "    io_groups = hits_trk['io_group']\n",
    "    y_pos = hits_trk['y']\n",
    "    z_pos = hits_trk['z'] \n",
    "    \n",
    "    fig,ax = plt.subplots(1,1,sharey=True, tight_layout=True, figsize=(13, 7))\n",
    "    tpc_rectL = plt.Rectangle((-64.5,-65), 64, 130, linewidth=0.75, edgecolor='b', facecolor=cmap(0),zorder=-1)\n",
    "    tpc_rectR = plt.Rectangle((0.5,-65), 64, 130, linewidth=0.75, edgecolor='b', facecolor=cmap(0),zorder=-1)\n",
    "\n",
    "    ax.add_patch(tpc_rectR)\n",
    "    ax.add_patch(tpc_rectL)\n",
    "    \n",
    "    ax.scatter(z_pos[io_groups==3],y_pos[io_groups==3],c='aqua',alpha=1,lw=1.5,s=8)\n",
    "    ax.scatter(z_pos[io_groups==1],y_pos[io_groups==1],c='aqua',alpha=1,lw=1.5,s=8)\n",
    "    ax.scatter(z_pos[io_groups==4],y_pos[io_groups==4],c='lightgreen',alpha=1,lw=1.5,s=8) \n",
    "    ax.scatter(z_pos[io_groups==2],y_pos[io_groups==2],c='lightgreen',alpha=1,lw=1.5,s=8)  \n",
    "    ax.scatter(z_pos[io_groups==7],y_pos[io_groups==7],c='yellow',alpha=1,lw=1.5,s=8)\n",
    "    ax.scatter(z_pos[io_groups==5],y_pos[io_groups==5],c='yellow',alpha=1,lw=1.5,s=8)\n",
    "    ax.scatter(z_pos[io_groups==8],y_pos[io_groups==8],c='orangered',alpha=1,lw=1.5,s=8)                       \n",
    "    ax.scatter(z_pos[io_groups==6],y_pos[io_groups==6],c='orangered',alpha=1,lw=1.5,s=8)\n",
    "            \n",
    "    ax.set_aspect(\"equal\")\n",
    "    ax.set_title('All Tracks')\n",
    "\n",
    "    ax.set_xlabel(\"z [cm]\")\n",
    "    ax.set_ylabel(\"y [cm]\")\n",
    "    b_patch = mpatches.Patch(color='aqua', label='io_groups: 1,3')\n",
    "    g_patch = mpatches.Patch(color='lightgreen', label='io_groups: 2,4')\n",
    "    y_patch = mpatches.Patch(color='yellow', label='io_groups: 5,7')\n",
    "    o_patch = mpatches.Patch(color='orangered', label='io_groups: 6,8')\n",
    "    ax.legend(handles=[b_patch, g_patch,y_patch,o_patch],\n",
    "          loc='lower left',ncol = 4, bbox_to_anchor=(-0.11,-0.2))\n",
    "    plt.show()"
   ]
  },
  {
   "cell_type": "code",
   "execution_count": null,
   "id": "58c6957f-5976-450c-aa7c-b4e2e58e640c",
   "metadata": {
    "tags": []
   },
   "outputs": [],
   "source": [
    "cmap = cm.jet\n",
    "ndflow_charge_plot(5, f, 'charge/events', 'charge/calib_final_hits')"
   ]
  },
  {
   "cell_type": "markdown",
   "id": "c8699d6a-fd91-43b6-ab2a-3d9be6519929",
   "metadata": {},
   "source": [
    "Now with light:\n",
    "\n",
    "Note, for event 5, we're mainly in io_group 1."
   ]
  },
  {
   "cell_type": "code",
   "execution_count": null,
   "id": "5026dab8-9879-4d21-b8de-a54b7a599110",
   "metadata": {
    "tags": []
   },
   "outputs": [],
   "source": [
    "light_evts = one_to_many(5, f, 'charge/events', 'light/events')\n",
    "print('Light/events keys:',light_evts.dtype.names)\n",
    "light_wvfms = one_to_many(light_evts['id'][0], f, 'light/events', 'light/wvfm')\n",
    "print('Light/wvfms key:', light_wvfms.dtype.names)\n",
    "print('samples shape:', np.shape(light_wvfms['samples']))"
   ]
  },
  {
   "cell_type": "markdown",
   "id": "1175ea45-c0d9-4a8c-8882-58686474bd43",
   "metadata": {},
   "source": [
    "### A note on geometry:\n",
    "\n",
    "Every ADC has 64 available channels.   \n",
    "Per ADC, the 2x2 light LRS uses 48 of those 64 channels to collect light waveforms.   \n",
    "We can use f['light/events/data']['wvfm_valid'] to select for this. "
   ]
  },
  {
   "cell_type": "code",
   "execution_count": null,
   "id": "c7527847-7a68-4644-b180-db8be1a9bc08",
   "metadata": {
    "tags": []
   },
   "outputs": [],
   "source": [
    "valid_wvfm = light_evts['wvfm_valid']\n",
    "print('Valid Waveform Shape:',np.shape(valid_wvfm))\n",
    "wvfms_0 = light_wvfms['samples'][0,0,:][valid_wvfm[0,0,:]==1]\n",
    "print('New Light Waveform Shape:',np.shape(wvfms_0))"
   ]
  },
  {
   "cell_type": "code",
   "execution_count": null,
   "id": "7a4053fb-5954-4e32-97a4-67941ddb6962",
   "metadata": {
    "tags": []
   },
   "outputs": [],
   "source": [
    "SAMPLES = 1000\n",
    "fig = plt.figure(figsize=(12,3))\n",
    "plt.plot(np.linspace(0,SAMPLES-1,SAMPLES),wvfms_0[5,:], 'm-')\n",
    "plt.title('Single Light Waveform', fontsize=16)\n",
    "plt.xlabel(r'Time Sample [0.01 $\\mu$s]', fontsize=14)\n",
    "plt.ylabel('SiPM Channel Output', fontsize=14)\n",
    "#plt.legend(fontsize=14)\n",
    "plt.show()"
   ]
  },
  {
   "cell_type": "markdown",
   "id": "dfe51fec-ac52-45cf-92cb-ee14ef777f93",
   "metadata": {},
   "source": [
    "### Import geometry info"
   ]
  },
  {
   "cell_type": "markdown",
   "id": "5d0ccf9a-5c70-4c92-8b63-c7ecea8333cd",
   "metadata": {},
   "source": [
    "Realised yesterday that \"geometry_info\" in the current form is not useful. So here for the moment a bush fix..."
   ]
  },
  {
   "cell_type": "code",
   "execution_count": null,
   "id": "c593a9e8-746e-45e2-9c9e-026860a521e0",
   "metadata": {
    "tags": []
   },
   "outputs": [],
   "source": [
    "sipm_abs_pos = LUT.from_array(f[\"geometry_info/sipm_abs_pos\"].attrs[\"meta\"],f[\"geometry_info/sipm_abs_pos/data\"])\n",
    "\n",
    "# sipm_abs_pos[(adc,chan)] = [x,y,z] in cm"
   ]
  },
  {
   "cell_type": "code",
   "execution_count": null,
   "id": "13f72d69-4c75-4b6c-8327-21282bb18f1e",
   "metadata": {
    "tags": []
   },
   "outputs": [],
   "source": [
    "sipm_rel_pos = LUT.from_array(f[\"geometry_info/sipm_rel_pos\"].attrs[\"meta\"],f[\"geometry_info/sipm_rel_pos/data\"])\n",
    "\n",
    "# sipm_rel_pos[(adc,chan)] = [tpc, side, vertical position]\n",
    "# side: 0->left 1->right looking in drift direction\n",
    "# vertical position: index starting from bottom (0-23)"
   ]
  },
  {
   "cell_type": "code",
   "execution_count": null,
   "id": "13988c4f-55d2-40bf-b3f0-ec3e59e3c3a2",
   "metadata": {
    "tags": []
   },
   "outputs": [],
   "source": [
    "det_bounds = LUT.from_array(f[\"geometry_info/det_bounds\"].attrs[\"meta\"],f[\"geometry_info/det_bounds/data\"])\n",
    "\n",
    "# det_bounds[(tpc,det)] = [[x_min, y_min, z_min],[x_max, y_max, z_max]] in cm "
   ]
  },
  {
   "cell_type": "code",
   "execution_count": null,
   "id": "22438167-d843-4c7f-858b-3b1e9da82a7c",
   "metadata": {
    "tags": []
   },
   "outputs": [],
   "source": [
    "det_rel_pos = LUT.from_array(f[\"geometry_info/det_rel_pos\"].attrs[\"meta\"],f[\"geometry_info/det_rel_pos/data\"])\n",
    "\n",
    "# det_rel_pos[(adc,chan)] = [tpc, side, vertical position]\n",
    "# side: 0->left 1->right looking in drift direction\n",
    "# vertical position: index starting from bottom (0-15)"
   ]
  },
  {
   "cell_type": "code",
   "execution_count": null,
   "id": "9a7eb8a7-379f-4d99-b284-e2f799dc4bef",
   "metadata": {
    "tags": []
   },
   "outputs": [],
   "source": [
    "det_id = LUT.from_array(f[\"geometry_info/det_id\"].attrs[\"meta\"],f[\"geometry_info/det_id/data\"])\n",
    "\n",
    "# det_id[(adc,chan)] = det"
   ]
  },
  {
   "cell_type": "markdown",
   "id": "55c5bc69-94cf-43cb-9f51-7732a51d6532",
   "metadata": {},
   "source": [
    "## Plot waveform with hits"
   ]
  },
  {
   "cell_type": "markdown",
   "id": "f6f79ec6-2af7-487c-8a84-b8a34c532dfa",
   "metadata": {},
   "source": [
    "Here event = trigger-event =spill !"
   ]
  },
  {
   "cell_type": "code",
   "execution_count": null,
   "id": "593b587e-2c2e-49c6-a814-8755e263c3fb",
   "metadata": {
    "tags": []
   },
   "outputs": [],
   "source": [
    "lwvfm = f['light/swvfm/data']\n",
    "levent = f['light/events/data']\n",
    "leventhitref = f['light/events/ref']['light/sum_hits']['ref']\n",
    "leventwvfmref = f['light/events/ref']['light/swvfm']['ref']\n",
    "lhits = f['light/sum_hits/data']\n",
    "print(\"WVFM shape:\\t\",lwvfm[\"samples\"].shape)\n",
    "print(\"Events shape:\\t\",levent.shape)\n",
    "print(\"Hits shape:\\t\",lhits.shape)"
   ]
  },
  {
   "cell_type": "code",
   "execution_count": null,
   "id": "d7b9558d-8f8d-466c-98ba-da5b21239cc6",
   "metadata": {
    "tags": []
   },
   "outputs": [],
   "source": [
    "spill=0"
   ]
  },
  {
   "cell_type": "code",
   "execution_count": null,
   "id": "5d3dd48a-ef0f-4b61-92d3-7f0028c3f7c4",
   "metadata": {
    "tags": []
   },
   "outputs": [],
   "source": [
    "#Get assosciated light data\n",
    "lev_id = spill #To be fixed: Only true for beam only simulation\n",
    "lev_wvfm = dereference(lev_id,leventwvfmref,lwvfm)[0][\"samples\"]\n",
    "lev_hits = dereference(lev_id,leventhitref,lhits)[0]\n",
    "acl_det = np.array([0,4,8,12])\n",
    "\n",
    "#Plot waveform\n",
    "fig, ax = plt.subplots(1,2,figsize=(8,4))\n",
    "for i,j in itertools.product(range(lev_wvfm[0].shape[0]),range(lev_wvfm[0].shape[1])):\n",
    "    if np.isin(j,acl_det):\n",
    "        ax[0].plot(np.arange(1000),lev_wvfm[0][i,j,:],linewidth=0.5)\n",
    "    else:\n",
    "        ax[1].plot(np.arange(1000),lev_wvfm[0][i,j,:],linewidth=0.5)\n",
    "#ax[0].set_ylim(*ax[0].get_ylim()) #Stupid matplot bug\n",
    "#ax[1].set_ylim(*ax[1].get_ylim()) #Stupid matplot bug\n",
    "ax[0].set_ylim(-500,500) #Stupid matplot bug\n",
    "ax[1].set_ylim(-500,500) #Stupid matplot bug\n",
    "\n",
    "#Plot hits\n",
    "print(\"#Hits found: \",(~np.isnan(lev_hits[\"sample_idx\"])).sum())\n",
    "if np.any(lev_hits[\"sample_idx\"]):\n",
    "    hit_array = np.zeros((len(lev_hits),4))\n",
    "    hit_array[:,0] = lev_hits[\"sample_idx\"].ravel()\n",
    "    hit_array[:,2] = lev_hits[\"sample_idx\"].ravel()\n",
    "    hit_array[:,1] = ax[0].get_ylim()[0]\n",
    "    hit_array[:,3] = ymax=ax[0].get_ylim()[0]/3\n",
    "    hit_plot = ax[0].plot(hit_array[:,::2].T, hit_array[:, 1::2].T,color=\"red\")\n",
    "    hit_plot = ax[1].plot(hit_array[:,::2].T, hit_array[:, 1::2].T,color=\"red\")\n",
    "    plt.legend([hit_plot[0]],['sum hits'],loc='best')\n",
    "\n",
    "#ax.set_title('Spill %d' %spill)\n",
    "#ax.set_xlabel(\"sample [16ns]\")\n",
    "#ax.set_ylabel(\"ADC value\")\n",
    "spill+=1"
   ]
  },
  {
   "cell_type": "code",
   "execution_count": null,
   "id": "98234fbc-e148-4c78-8815-d2873bfed57f",
   "metadata": {
    "tags": []
   },
   "outputs": [],
   "source": [
    "#Get assosciated light data\n",
    "lev_id = spill #To be fixed: Only true for beam only simulation\n",
    "lev_wvfm = dereference(lev_id,leventwvfmref,lwvfm)[0][\"samples\"]\n",
    "lev_hits = dereference(lev_id,leventhitref,lhits)[0]\n",
    "\n",
    "#Plot waveform\n",
    "fig, ax = plt.subplots(1,figsize=(4,4))\n",
    "for i,j in itertools.product(range(lev_wvfm[0].shape[0]),range(lev_wvfm[0].shape[1])):\n",
    "    ax.plot(np.arange(1000),lev_wvfm[0][i,j,:],linewidth=0.5)\n",
    "ax.set_ylim(*ax.get_ylim()) #Stupid matplot bug\n",
    "\n",
    "#Plot hits\n",
    "print(\"#Hits found: \",(~np.isnan(lev_hits[\"sample_idx\"])).sum())\n",
    "if np.any(lev_hits[\"sample_idx\"]):\n",
    "    hit_array = np.zeros((len(lev_hits),4))\n",
    "    hit_array[:,0] = lev_hits[\"sample_idx\"].ravel()\n",
    "    hit_array[:,2] = lev_hits[\"sample_idx\"].ravel()\n",
    "    hit_array[:,1] = ax.get_ylim()[0]\n",
    "    hit_array[:,3] = ymax=ax.get_ylim()[0]/3\n",
    "    hit_plot = plt.plot(hit_array[:,::2].T, hit_array[:, 1::2].T,color=\"red\")\n",
    "    plt.legend([hit_plot[0]],['sum hits'],loc='best')\n",
    "\n",
    "ax.set_title('Spill %d' %spill)\n",
    "ax.set_xlabel(\"sample [16ns]\")\n",
    "ax.set_ylabel(\"ADC value\")\n",
    "spill+=1"
   ]
  },
  {
   "cell_type": "markdown",
   "id": "3fdd13a0-d4d4-401f-9d3b-77907512ad8f",
   "metadata": {
    "tags": []
   },
   "source": [
    "### Hit structure\n",
    "| Name              | Type             | Description                                                                                             |\n",
    "| ----------------- | ---------------- | ------------------------------------------------------------------------------------------------------- |\n",
    "| id                | u4,              | unique identifier                                                                                       |\n",
    "| adc_id / tpc      | u1,              | tpc or adc index                                                                                        |\n",
    "| chan / det        | u1,              | detector or channel index                                                                               |\n",
    "| pos / boundary    | f4(3) / f4(3,2), | (x,y,z) center of sipm / ((xmin,xmax), (ymin,ymax), (zmin,zmax)) boundary of detector sensitive surface |\n",
    "| sample_idx        | u2,              | sample index of peak within waveform                                                                    |\n",
    "| ns                | f8,              | WR timestamp of waveform [ns]                                                                           |\n",
    "| busy_ns           | f8,              | timestamp of peak relative to trigger [ns]                                                              |\n",
    "| samples           | f4(2\\*near+1,),  | sample value around peak (±near_samples)                                                                |\n",
    "| sum               | f4,              | sum of sample values (out to ±near_samples)                                                             |\n",
    "| max               | f4,              | peak value                                                                                              |\n",
    "| sum_spline        | f4,              | integral of spline around peak (out to ±near_samples)                                                   |\n",
    "| max_spline        | f4,              | maximum of spline around peak                                                                           |\n",
    "| ns_spline         | f4,              | offset from center sample for maximum of spline [ns]                                                    |\n",
    "| rising_spline     | f4,              | projection of spline to rising edge zero-crossing (offset from center sample) [ns]                      |\n",
    "| rising_err_spline | f4,              | an estimate of the error on the rising edge zero-                                                       |\n",
    "| fwhm_spline       | f4,              | spline FWHM [ns] "
   ]
  },
  {
   "cell_type": "markdown",
   "id": "2fac343b-76e3-42dc-ab9b-6d0585a10d6c",
   "metadata": {},
   "source": [
    "# Charge Light combined plot"
   ]
  },
  {
   "cell_type": "code",
   "execution_count": null,
   "id": "619b5372-804b-465f-96f5-d1c9ff067377",
   "metadata": {
    "tags": []
   },
   "outputs": [],
   "source": [
    "light_mode = \"wvfm_sum\"\n",
    "#light_mode = \"sum_hit\"\n",
    "#light_mode = \"sipm_hit\""
   ]
  },
  {
   "cell_type": "code",
   "execution_count": null,
   "id": "60956bc9-4020-4a8a-bd9b-54a64274b78b",
   "metadata": {
    "tags": []
   },
   "outputs": [],
   "source": [
    "levent = f['light/events/data']\n",
    "if light_mode == \"wvfm_sum\":\n",
    "    lwvfm = f['light/wvfm/data']\n",
    "    leventwvfmref = f['light/events/ref']['light/wvfm']['ref']\n",
    "elif light_mode == \"sum_hit\":\n",
    "    lhits = f['light/sum_hits/data']\n",
    "    leventhitref = f['light/events/ref']['light/sum_hits']['ref']\n",
    "else:\n",
    "    lhits = f['light/sipm_hits/data']\n",
    "    leventhitref = f['light/events/ref']['light/sipm_hits']['ref']\n",
    "\n",
    "\n",
    "chits = f['/charge/calib_prompt_hits/data']\n",
    "cevents = f['charge/events/data']\n",
    "ceventchitref = f['charge/events/ref/charge/calib_prompt_hits']['ref']\n",
    "ceventleventref = f['charge/events/ref/light/events']['ref']"
   ]
  },
  {
   "cell_type": "code",
   "execution_count": null,
   "id": "dda8f6b8-67de-4098-a51d-aa36d73c6834",
   "metadata": {
    "tags": []
   },
   "outputs": [],
   "source": [
    "spill = 45"
   ]
  },
  {
   "cell_type": "code",
   "execution_count": null,
   "id": "def2c8bd-b59e-4e09-b06d-9423f2d204d4",
   "metadata": {
    "tags": []
   },
   "outputs": [],
   "source": [
    "cevents.dtype"
   ]
  },
  {
   "cell_type": "code",
   "execution_count": null,
   "id": "ff63d7c1-4300-49ce-8c5e-044135ae339b",
   "metadata": {
    "tags": []
   },
   "outputs": [],
   "source": [
    "### Event display\n",
    "\n",
    "#Get light data\n",
    "lev_id = spill #To be fixed: Only true for beam only simulation\n",
    "lev_wvfm = dereference(lev_id,leventwvfmref,lwvfm)[0][\"samples\"]\n",
    "lev_hits = dereference(lev_id,leventhitref,lhits)[0]\n",
    "\n",
    "#Get charge data\n",
    "cevent = dereference(lev_id,ceventleventref,cevents,ref_direction = (1,0),indices_only = True)[0]\n",
    "\n",
    "print(\"Light utime:\", levent[spill][\"utime_ms\"])\n",
    "print(\"#Light hits found:\", lev_hits.shape[0])\n",
    "if np.any(cevent):\n",
    "    cev_hits = dereference(cevent,ceventchitref,chits)\n",
    "    print(\"Charge utime:\", cevents[cevent][\"unix_ts\"]*1e7+cevents[cevent][\"ts_start\"])\n",
    "else:\n",
    "    print(\"No charge event found\")\n",
    "    cev_hits = np.empty(0)\n",
    "    \n",
    "#Prepare plot\n",
    "fig = plt.figure(layout='constrained', figsize=(8, 8))\n",
    "fig.suptitle(\"Spill %d\" % spill,fontsize='xx-large')\n",
    "subfigs = fig.subfigures(2, 2, wspace=0.07)\n",
    "ax=[]\n",
    "\n",
    "#Prepare color map for light\n",
    "cmap=cm.viridis\n",
    "if light_mode == \"wvfm_sum\":\n",
    "    norm = colors.LogNorm(1,lev_wvfm[0].sum(axis=-1).max())\n",
    "    print(lev_wvfm[0].sum(axis=-1).max())\n",
    "    c = norm(lev_wvfm[0].sum(axis=-1))\n",
    "else:\n",
    "     norm =   plt.Normalize(0,lev_hits[\"max\"].max())\n",
    "\n",
    "#Define TPC borders\n",
    "drift_length = 30.27225 # cm\n",
    "drift_length = 35.27225 # cm\n",
    "xbound=np.array([[0,drift_length],[-drift_length,0]])\n",
    "ybound=np.array([-65.0,65.0])\n",
    "zbound=np.array([-32.5,32.5])\n",
    "mod_offsets = [\n",
    "    [33.5, 0., 33.5],\n",
    "    [33.5, 0., -33.5],\n",
    "    [-33.5, 0., 33.5],\n",
    "    [-33.5, 0., -33.5]]\n",
    "\n",
    "for mod in range(4):\n",
    "    subfigs[mod//2,mod%2].suptitle(\"Mod-%d\"%mod)\n",
    "    ax.append(subfigs[mod//2,mod%2].subplots(1,2))\n",
    "    for itpc in range(2):\n",
    "        ax[mod][itpc].set_xlim(*(mod_offsets[mod][2]+zbound))\n",
    "        ax[mod][itpc].set_ylim(*(mod_offsets[mod][1]+ybound))\n",
    "        ax[mod][itpc].set_title(\"TPC %d\"%(mod*2+itpc))\n",
    "        \n",
    "        #Plot charge\n",
    "        if cev_hits.shape[0]:\n",
    "            c_xmask= (cev_hits[\"io_group\"]-1==(mod*2+itpc))\n",
    "            ax[mod][itpc].scatter(cev_hits[c_xmask]['z'],cev_hits[c_xmask]['y'],c=cev_hits[c_xmask]['Q'],s=0.5,cmap='viridis',norm=colors.LogNorm())\n",
    "        \n",
    "        #Plot light\n",
    "        if light_mode == \"wvfm_sum\":\n",
    "            for i,j in itertools.product(range(lev_wvfm[0].shape[0]),range(lev_wvfm[0].shape[1])):\n",
    "                pos=sipm_abs_pos[(i,j)][0]\n",
    "                if pos[0]==-1:\n",
    "                    continue\n",
    "                if sipm_rel_pos[(i,j)][0][0] ==(mod*2+itpc):\n",
    "                    rect = mpatches.Rectangle((pos[2],-pos[1]), 1, 3,facecolor = cmap(c[i,j]))\n",
    "                    ax[mod][itpc].add_patch(rect)\n",
    "        elif light_mode == \"sum_hit\":\n",
    "            for lhit in np.nditer(lev_hits):\n",
    "                pos=det_bounds[(lhit[\"tpc\"],lhit[\"det\"])][0]\n",
    "                if lhit[\"tpc\"]==(mod*2+itpc):\n",
    "                    intensity = norm(lhit[\"max\"])\n",
    "                    if not(np.isin(lhit[\"det\"],acl_det)):\n",
    "                           intensity *=3\n",
    "                    rect = mpatches.Rectangle((pos[0,2],pos[0,1]), 1, 0.9*(pos[1,1]-pos[0,1]),facecolor =\"red\",alpha=intensity)\n",
    "                    ax[mod][itpc].add_patch(rect)\n",
    "        elif light_mode == \"sipm_hit\":\n",
    "            for lhit in np.nditer(lev_hits):\n",
    "                pos=sipm_abs_pos[(lhit[\"adc\"],lhit[\"chan\"])][0]\n",
    "                if sipm_rel_pos[(lhit[\"adc\"],lhit[\"chan\"])][0][0] ==(mod*2+itpc):\n",
    "                    rect = mpatches.Rectangle((pos[2],pos[1]), 1, 3,facecolor =\"red\",alpha=norm(lhit[\"max\"]))\n",
    "                    ax[mod][itpc].add_patch(rect)\n",
    "                    \n",
    "print(\"Spill: \",spill)                \n",
    "spill += 1"
   ]
  },
  {
   "cell_type": "code",
   "execution_count": null,
   "id": "2d28ec88-f7fa-4cd9-acc4-5d692497ba7d",
   "metadata": {
    "tags": []
   },
   "outputs": [],
   "source": [
    "def data_readout(io_first, io_second, spill, event_id, h5file, one_entry_field, many_entry_field):\n",
    "\n",
    "    fig = plt.figure(figsize=(14,8),tight_layout=True)\n",
    "    subfigs = fig.subfigures(1, 6, wspace=0, width_ratios=[0.8,1.5,0.8,0.8,1.5,0.8], height_ratios=[1])\n",
    "    axs0 = subfigs[0].subplots(8, 1,sharey=True,gridspec_kw={'hspace': 0})\n",
    "    axs1 = subfigs[1].subplots(1, 1)\n",
    "    axs2 = subfigs[2].subplots(8, 1,sharey=True,gridspec_kw={'hspace': 0})\n",
    "    axs3 = subfigs[3].subplots(8, 1,sharey=True,gridspec_kw={'hspace': 0})\n",
    "    axs4 = subfigs[4].subplots(1, 1)\n",
    "    axs5 = subfigs[5].subplots(8, 1,sharey=True,gridspec_kw={'hspace': 0})\n",
    "\n",
    "    cmap = cm.jet\n",
    "\n",
    "    titles = [\"mod. 2, io_group 3\",\"mod. 1, io_group 1\",\"mod. 2, io_group 4\",\"mod. 1, io_group 2\",\n",
    "              \"mod. 4, io_group 7\",\"mod. 3, io_group 5\",\"mod. 4, io_group 8\",\"mod. 3, io_group 6\"]\n",
    "    colors = ['aqua','aqua','lightgreen','lightgreen','yellow','yellow','orangered','orangered']\n",
    "    ios = [3,1,4,2,7,5,8,6]\n",
    "    l_trap_type = [1,1,1,0,1,1,1,0]\n",
    "    s_id_R = [18,19,20,4,21,22,23,5]\n",
    "    s_id_L = [0,1,2,0,3,4,5,1]\n",
    "\n",
    "    hits_trk = one_to_many(event_id, h5file, one_entry_field, many_entry_field)\n",
    "    \n",
    "    x_pos = hits_trk['x'] # [cm], drift direction\n",
    "    io_groups = hits_trk['io_group']\n",
    "    y_pos = hits_trk['y']\n",
    "    z_pos = hits_trk['z'] \n",
    "    \n",
    "    for i in range(len(io_groups)):\n",
    "        if io_groups[i]==io_first:\n",
    "            X = x_pos[i]\n",
    "            Y = y_pos[i]\n",
    "            Z = z_pos[i]\n",
    "            axs1.scatter(Z,Y,c=colors[ios.index(io_first)],alpha=1,lw=1.5,s=10)\n",
    "        elif io_groups[i]==io_second:\n",
    "            X = x_pos[i]\n",
    "            Y = y_pos[i]\n",
    "            Z = z_pos[i]\n",
    "            axs4.scatter(Z,Y,c=colors[ios.index(io_second)],alpha=1,lw=1.5,s=10)\n",
    "        else:\n",
    "            axs1.plot(0,0,c='navy',alpha=0.1)\n",
    "            axs4.plot(0,0,c='navy',alpha=0.1)\n",
    "\n",
    "    tpc_rectL = plt.Rectangle((-64.5,-65), 64, 130, linewidth=0.75, edgecolor='b', facecolor=cmap(0),zorder=-1)\n",
    "    tpc_rectR = plt.Rectangle((0.5,-65), 64, 130, linewidth=0.75, edgecolor='b', facecolor=cmap(0),zorder=-1)\n",
    "\n",
    "    axs1.add_patch(tpc_rectL)\n",
    "    axs4.add_patch(tpc_rectR)\n",
    "    axs1.set_aspect(\"equal\")\n",
    "    axs1.set_xlabel(\"z [cm]\")\n",
    "    axs1.set_ylim(-65,66)\n",
    "    axs4.set_xlim(-65,0)\n",
    "    axs1.set_title(titles[ios.index(io_first)])\n",
    "    axs1.yaxis.set_ticklabels([]) \n",
    "    axs4.set_xlabel(\"z [cm]\")\n",
    "    axs4.set_ylim(-65,65)\n",
    "    axs4.set_xlim(0,65)\n",
    "    axs4.set_aspect(\"equal\")\n",
    "    axs4.set_title(titles[ios.index(io_second)])\n",
    "    axs4.yaxis.set_ticklabels([]) \n",
    "    \n",
    "    axs0[0].set_title(\"Left:\\nio_group \"+str(io_first))\n",
    "    axs2[0].set_title(\"Right:\\nio_group \"+str(io_first))\n",
    "    axs3[0].set_title(\"Left:\\nio_group \"+str(io_second))\n",
    "    axs5[0].set_title(\"Right:\\nio_group \"+str(io_second))\n",
    "    axs0[7].set_xlabel(r\"Samples [0.01 $\\mu$s]\")\n",
    "    axs2[7].set_xlabel(r\"Samples [0.01 $\\mu$s]\")\n",
    "    axs3[7].set_xlabel(r\"Samples [0.01 $\\mu$s]\")\n",
    "    axs5[7].set_xlabel(r\"Samples [0.01 $\\mu$s]\")\n",
    "\n",
    "    samples = f['light/wvfm/data']['samples']\n",
    "    if (io_second%2)==0:    \n",
    "        wvfm_evt_acl_L = samples[spill,io_first-2,0:32,:][valid_wvfm[0,0,0:32]==1]\n",
    "        sum_ch_acl_L = wvfm_evt_acl_L.reshape(4, 6, 1000).sum(axis=1)\n",
    "        wvfm_evt_lcm_L = samples[spill,io_first-1,0:32,:][valid_wvfm[0,1,0:32]==1]\n",
    "        sum_ch_lcm_L = wvfm_evt_lcm_L.reshape(12, 2, 1000).sum(axis=1)\n",
    "    \n",
    "        wvfm_evt_acl_R = samples[spill,io_second-2,0:32,:][valid_wvfm[0,0,0:32]==1]\n",
    "        sum_ch_acl_R = wvfm_evt_acl_R.reshape(4, 6, 1000).sum(axis=1)\n",
    "        wvfm_evt_lcm_R = samples[spill,io_second-1,0:32,:][valid_wvfm[0,1,0:32]==1]\n",
    "        sum_ch_lcm_R = wvfm_evt_lcm_R.reshape(12, 2, 1000).sum(axis=1)\n",
    "        \n",
    "    else:\n",
    "        wvfm_evt_acl_L = samples[spill,io_first-2,32:,:][valid_wvfm[0,0,32:]==1]\n",
    "        sum_ch_acl_L = wvfm_evt_acl_L.reshape(4, 6, 1000).sum(axis=1)\n",
    "        wvfm_evt_lcm_L = samples[spill,io_first-1,32:,:][valid_wvfm[0,1,32:]==1]\n",
    "        sum_ch_lcm_L = wvfm_evt_lcm_L.reshape(12, 2, 1000).sum(axis=1)\n",
    "    \n",
    "        wvfm_evt_acl_R = samples[spill,io_second-2,32:,:][valid_wvfm[0,0,32:]==1]\n",
    "        sum_ch_acl_R = wvfm_evt_acl_R.reshape(4, 6, 1000).sum(axis=1)\n",
    "        wvfm_evt_lcm_R = samples[spill,io_second-1,32:,:][valid_wvfm[0,1,32:]==1]\n",
    "        sum_ch_lcm_R = wvfm_evt_lcm_R.reshape(12, 2, 1000).sum(axis=1)\n",
    "    \n",
    "    all_sums=[]  \n",
    "    for i in range(8):\n",
    "        if l_trap_type[i]==1:\n",
    "            clr = 'greenyellow'\n",
    "            wvfm_scndL = sum_ch_lcm_R[0+i,:]\n",
    "            wvfm_scndR = sum_ch_lcm_R[5+i,:]\n",
    "            wvfm_frstL = sum_ch_lcm_L[0+i,:]\n",
    "            wvfm_frstR = sum_ch_lcm_L[5+i,:]\n",
    "        else:\n",
    "            clr = 'lightgreen'   \n",
    "            tb = i//7\n",
    "            wvfm_scndL = sum_ch_acl_R[0+tb,:]\n",
    "            wvfm_scndR = sum_ch_acl_R[2+tb,:]\n",
    "            wvfm_frstL = sum_ch_acl_L[0+tb,:]\n",
    "            wvfm_frstR = sum_ch_acl_L[2+tb,:]\n",
    "        \n",
    "        all_sums.extend(wvfm_scndL+wvfm_scndR+wvfm_frstL+wvfm_frstR)\n",
    "        y_min = (min(all_sums)-500)\n",
    "        y_max = (max(all_sums))\n",
    "    \n",
    "        axs0[i].plot(np.linspace(0,SAMPLES-1,SAMPLES),wvfm_frstL,color='k')\n",
    "        axs0[i].set_facecolor(clr) \n",
    "        #axs0[i].set_box_aspect(1)\n",
    "        axs0[i].label_outer()\n",
    "        axs0[i].set_ylim(y_min,y_max)\n",
    "    \n",
    "        axs2[i].plot(np.linspace(0,SAMPLES-1,SAMPLES),wvfm_frstR,color='k')\n",
    "        axs2[i].set_facecolor(clr)\n",
    "        axs2[i].label_outer()\n",
    "        #axs2[i].set_box_aspect(1)\n",
    "        axs2[i].set_ylim(y_min,y_max)\n",
    "        axs2[i].yaxis.set_ticklabels([])\n",
    "    \n",
    "        axs3[i].plot(np.linspace(0,SAMPLES-1,SAMPLES),wvfm_scndL,color='k')\n",
    "        axs3[i].set_facecolor(clr)\n",
    "        axs3[i].label_outer()\n",
    "        #axs3[i].set_box_aspect(1)\n",
    "        axs3[i].set_ylim(y_min,y_max)\n",
    "        axs3[i].yaxis.set_ticklabels([])\n",
    "    \n",
    "        axs5[i].plot(np.linspace(0,SAMPLES-1,SAMPLES),wvfm_scndR,color='k')\n",
    "        axs5[i].set_facecolor(clr)\n",
    "        axs5[i].label_outer()\n",
    "        #axs5[i].set_box_aspect(1)\n",
    "        axs5[i].set_ylim(y_min,y_max)\n",
    "        axs5[i].yaxis.set_ticklabels([])\n",
    "        \n",
    "    plt.show()"
   ]
  },
  {
   "cell_type": "code",
   "execution_count": null,
   "id": "d0a5386b-dfc8-47c4-bdd0-ff20e99440ec",
   "metadata": {
    "tags": []
   },
   "outputs": [],
   "source": [
    "data_readout(3, 1, 4, 3, f, 'charge/events', 'charge/calib_final_hits')"
   ]
  },
  {
   "cell_type": "code",
   "execution_count": null,
   "id": "8bc19cea-5b9f-40a7-9996-fa6332aae89a",
   "metadata": {
    "tags": []
   },
   "outputs": [],
   "source": [
    "data_readout(4, 2, 4, 3, f, 'charge/events', 'charge/calib_final_hits')"
   ]
  },
  {
   "cell_type": "code",
   "execution_count": null,
   "id": "da93708e-e998-4f70-8ea1-e24c0a6a2672",
   "metadata": {
    "tags": []
   },
   "outputs": [],
   "source": [
    "data_readout(7, 5, 4, 3, f, 'charge/events', 'charge/calib_final_hits')"
   ]
  },
  {
   "cell_type": "code",
   "execution_count": null,
   "id": "7d826bd1-5e8e-4a34-93d6-a33d1a53bb91",
   "metadata": {
    "tags": []
   },
   "outputs": [],
   "source": [
    "data_readout(8, 6, 4, 3, f, 'charge/events', 'charge/calib_final_hits')"
   ]
  },
  {
   "cell_type": "code",
   "execution_count": null,
   "id": "621d6adc-5e41-4cb1-98b5-86c92b18744a",
   "metadata": {},
   "outputs": [],
   "source": []
  }
 ],
 "metadata": {
  "kernelspec": {
   "display_name": "NERSC Python",
   "language": "python",
   "name": "python3"
  },
  "language_info": {
   "codemirror_mode": {
    "name": "ipython",
    "version": 3
   },
   "file_extension": ".py",
   "mimetype": "text/x-python",
   "name": "python",
   "nbconvert_exporter": "python",
   "pygments_lexer": "ipython3",
   "version": "3.11.7"
  }
 },
 "nbformat": 4,
 "nbformat_minor": 5
}
